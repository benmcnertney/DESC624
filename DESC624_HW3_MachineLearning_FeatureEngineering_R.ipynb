{
  "nbformat": 4,
  "nbformat_minor": 0,
  "metadata": {
    "colab": {
      "provenance": [],
      "toc_visible": true,
      "include_colab_link": true
    },
    "kernelspec": {
      "name": "python3",
      "display_name": "Python 3"
    },
    "language_info": {
      "name": "python"
    }
  },
  "cells": [
    {
      "cell_type": "markdown",
      "metadata": {
        "id": "view-in-github",
        "colab_type": "text"
      },
      "source": [
        "<a href=\"https://colab.research.google.com/github/benmcnertney/DESC624/blob/main/DESC624_HW3_MachineLearning_FeatureEngineering_R.ipynb\" target=\"_parent\"><img src=\"https://colab.research.google.com/assets/colab-badge.svg\" alt=\"Open In Colab\"/></a>"
      ]
    },
    {
      "cell_type": "markdown",
      "metadata": {
        "id": "RgcSPnoafO2o"
      },
      "source": [
        "#**DESC 624 - Machine Learning Modeling**#\n",
        "\n",
        "HW #3"
      ]
    },
    {
      "cell_type": "markdown",
      "metadata": {
        "id": "p9Yv-bdDKxxt"
      },
      "source": [
        "1. Remember to execute code as you go along by hitting the play button.\n",
        "2. Do not run things out of order.  You need to run things in sequence\n",
        "3. If you pick Python, do **NOT** execute R blocks, if you pick R, do **NOT**  execute the Python blocks\n",
        "4. Exception to 3., run everything in Section 1 for both R and Python (this way you have the environments properly set up for both)\n",
        "5. Please make a copy of this notebook to **YOUR** Google Drive.\n",
        "  File -> Save a Copy in Drive\n",
        "6. You will submit the actual notebook, so I can run it and you will submit a PDF version (File -> Print) of the complete notebook in which you have executed each coding block.\n",
        "7. Please name your notebook and PDF version in the following way:\n",
        "\n",
        "  HW3_lastname_firstname.ipynb for the notebook\n",
        "\n",
        "  HW3_lastname_firstname.pdf for the PDF\n",
        "\n",
        "\n",
        "\n"
      ]
    },
    {
      "cell_type": "markdown",
      "metadata": {
        "id": "UdP0dRFggBfF"
      },
      "source": [
        "You must use %%R at the top of each notebook block in order for the code to be interpreted as R code.\n",
        "\n",
        "\"#\" before or after code is a comment\n",
        "\n",
        "If you do not specify %%R at the top of the notebook block, the notebook will interpret the code as Python code.  \n",
        "\n",
        "You are welcome to use whatever your prefer or both Python and R to do the work.  If you pick one or the other, before you finalize and submit your workbook, please delete the blocks of code you did not use (i.e., If you pick Python, delete all of the R code blocks)\n",
        "\n",
        "You MUST use\n",
        "\n",
        "\"#!pip install rpy2\"\n",
        "\n",
        "\"%load_ext rpy2.ipython\"\n",
        "\n",
        "Before any R code is executed. Notice how this block of code does NOT contain a %%R at the top."
      ]
    },
    {
      "cell_type": "code",
      "source": [
        "!pip install rpy2==3.5.1"
      ],
      "metadata": {
        "id": "SHGVzeCbijmL",
        "colab": {
          "base_uri": "https://localhost:8080/"
        },
        "outputId": "c93c0fe1-4142-4c66-f82e-e170908e4b1f"
      },
      "execution_count": null,
      "outputs": [
        {
          "output_type": "stream",
          "name": "stdout",
          "text": [
            "Collecting rpy2==3.5.1\n",
            "  Downloading rpy2-3.5.1.tar.gz (201 kB)\n",
            "\u001b[?25l     \u001b[90m━━━━━━━━━━━━━━━━━━━━━━━━━━━━━━━━━━━━━━━━\u001b[0m \u001b[32m0.0/201.7 kB\u001b[0m \u001b[31m?\u001b[0m eta \u001b[36m-:--:--\u001b[0m\r\u001b[2K     \u001b[90m━━━━━━━━━━━━━━━━━━━━━━━━━━━━━━━━━━━━━━\u001b[0m \u001b[32m201.7/201.7 kB\u001b[0m \u001b[31m14.9 MB/s\u001b[0m eta \u001b[36m0:00:00\u001b[0m\n",
            "\u001b[?25h  Preparing metadata (setup.py) ... \u001b[?25l\u001b[?25hdone\n",
            "Requirement already satisfied: cffi>=1.10.0 in /usr/local/lib/python3.12/dist-packages (from rpy2==3.5.1) (2.0.0)\n",
            "Requirement already satisfied: jinja2 in /usr/local/lib/python3.12/dist-packages (from rpy2==3.5.1) (3.1.6)\n",
            "Requirement already satisfied: pytz in /usr/local/lib/python3.12/dist-packages (from rpy2==3.5.1) (2025.2)\n",
            "Requirement already satisfied: tzlocal in /usr/local/lib/python3.12/dist-packages (from rpy2==3.5.1) (5.3.1)\n",
            "Requirement already satisfied: pycparser in /usr/local/lib/python3.12/dist-packages (from cffi>=1.10.0->rpy2==3.5.1) (2.23)\n",
            "Requirement already satisfied: MarkupSafe>=2.0 in /usr/local/lib/python3.12/dist-packages (from jinja2->rpy2==3.5.1) (3.0.2)\n",
            "Building wheels for collected packages: rpy2\n",
            "  Building wheel for rpy2 (setup.py) ... \u001b[?25l\u001b[?25hdone\n",
            "  Created wheel for rpy2: filename=rpy2-3.5.1-cp312-cp312-linux_x86_64.whl size=316566 sha256=4904405208546c488a8ea30f6fb93079c1edf267695b6e66bddfb574e4a0b879\n",
            "  Stored in directory: /root/.cache/pip/wheels/00/26/d5/d5e8c0b039915e785be870270e4a9263e5058168a03513d8cc\n",
            "Successfully built rpy2\n",
            "Installing collected packages: rpy2\n",
            "  Attempting uninstall: rpy2\n",
            "    Found existing installation: rpy2 3.5.17\n",
            "    Uninstalling rpy2-3.5.17:\n",
            "      Successfully uninstalled rpy2-3.5.17\n",
            "Successfully installed rpy2-3.5.1\n"
          ]
        }
      ]
    },
    {
      "cell_type": "code",
      "metadata": {
        "id": "BNOQq6DSEX3N"
      },
      "source": [
        "%load_ext rpy2.ipython"
      ],
      "execution_count": null,
      "outputs": []
    },
    {
      "cell_type": "code",
      "metadata": {
        "id": "7cNC4iuudIj_",
        "colab": {
          "base_uri": "https://localhost:8080/"
        },
        "outputId": "a08098ec-ac8a-4adc-c7b0-0c7182844442"
      },
      "source": [
        "!apt-get install default-jre\n",
        "!java -version"
      ],
      "execution_count": null,
      "outputs": [
        {
          "output_type": "stream",
          "name": "stdout",
          "text": [
            "Reading package lists... Done\n",
            "Building dependency tree... Done\n",
            "Reading state information... Done\n",
            "The following additional packages will be installed:\n",
            "  default-jre-headless fonts-dejavu-core fonts-dejavu-extra\n",
            "  libatk-wrapper-java libatk-wrapper-java-jni libxtst6 libxxf86dga1\n",
            "  openjdk-11-jre x11-utils\n",
            "Suggested packages:\n",
            "  mesa-utils\n",
            "The following NEW packages will be installed:\n",
            "  default-jre default-jre-headless fonts-dejavu-core fonts-dejavu-extra\n",
            "  libatk-wrapper-java libatk-wrapper-java-jni libxtst6 libxxf86dga1\n",
            "  openjdk-11-jre x11-utils\n",
            "0 upgraded, 10 newly installed, 0 to remove and 38 not upgraded.\n",
            "Need to get 3,634 kB of archives.\n",
            "After this operation, 12.4 MB of additional disk space will be used.\n",
            "Get:1 http://archive.ubuntu.com/ubuntu jammy/main amd64 default-jre-headless amd64 2:1.11-72build2 [3,042 B]\n",
            "Get:2 http://archive.ubuntu.com/ubuntu jammy/main amd64 libxtst6 amd64 2:1.2.3-1build4 [13.4 kB]\n",
            "Get:3 http://archive.ubuntu.com/ubuntu jammy-updates/main amd64 openjdk-11-jre amd64 11.0.28+6-1ubuntu1~22.04.1 [214 kB]\n",
            "Get:4 http://archive.ubuntu.com/ubuntu jammy/main amd64 default-jre amd64 2:1.11-72build2 [896 B]\n",
            "Get:5 http://archive.ubuntu.com/ubuntu jammy/main amd64 fonts-dejavu-core all 2.37-2build1 [1,041 kB]\n",
            "Get:6 http://archive.ubuntu.com/ubuntu jammy/main amd64 fonts-dejavu-extra all 2.37-2build1 [2,041 kB]\n",
            "Get:7 http://archive.ubuntu.com/ubuntu jammy/main amd64 libxxf86dga1 amd64 2:1.1.5-0ubuntu3 [12.6 kB]\n",
            "Get:8 http://archive.ubuntu.com/ubuntu jammy/main amd64 x11-utils amd64 7.7+5build2 [206 kB]\n",
            "Get:9 http://archive.ubuntu.com/ubuntu jammy/main amd64 libatk-wrapper-java all 0.38.0-5build1 [53.1 kB]\n",
            "Get:10 http://archive.ubuntu.com/ubuntu jammy/main amd64 libatk-wrapper-java-jni amd64 0.38.0-5build1 [49.0 kB]\n",
            "Fetched 3,634 kB in 1s (3,698 kB/s)\n",
            "Selecting previously unselected package default-jre-headless.\n",
            "(Reading database ... 126666 files and directories currently installed.)\n",
            "Preparing to unpack .../0-default-jre-headless_2%3a1.11-72build2_amd64.deb ...\n",
            "Unpacking default-jre-headless (2:1.11-72build2) ...\n",
            "Selecting previously unselected package libxtst6:amd64.\n",
            "Preparing to unpack .../1-libxtst6_2%3a1.2.3-1build4_amd64.deb ...\n",
            "Unpacking libxtst6:amd64 (2:1.2.3-1build4) ...\n",
            "Selecting previously unselected package openjdk-11-jre:amd64.\n",
            "Preparing to unpack .../2-openjdk-11-jre_11.0.28+6-1ubuntu1~22.04.1_amd64.deb ...\n",
            "Unpacking openjdk-11-jre:amd64 (11.0.28+6-1ubuntu1~22.04.1) ...\n",
            "Selecting previously unselected package default-jre.\n",
            "Preparing to unpack .../3-default-jre_2%3a1.11-72build2_amd64.deb ...\n",
            "Unpacking default-jre (2:1.11-72build2) ...\n",
            "Selecting previously unselected package fonts-dejavu-core.\n",
            "Preparing to unpack .../4-fonts-dejavu-core_2.37-2build1_all.deb ...\n",
            "Unpacking fonts-dejavu-core (2.37-2build1) ...\n",
            "Selecting previously unselected package fonts-dejavu-extra.\n",
            "Preparing to unpack .../5-fonts-dejavu-extra_2.37-2build1_all.deb ...\n",
            "Unpacking fonts-dejavu-extra (2.37-2build1) ...\n",
            "Selecting previously unselected package libxxf86dga1:amd64.\n",
            "Preparing to unpack .../6-libxxf86dga1_2%3a1.1.5-0ubuntu3_amd64.deb ...\n",
            "Unpacking libxxf86dga1:amd64 (2:1.1.5-0ubuntu3) ...\n",
            "Selecting previously unselected package x11-utils.\n",
            "Preparing to unpack .../7-x11-utils_7.7+5build2_amd64.deb ...\n",
            "Unpacking x11-utils (7.7+5build2) ...\n",
            "Selecting previously unselected package libatk-wrapper-java.\n",
            "Preparing to unpack .../8-libatk-wrapper-java_0.38.0-5build1_all.deb ...\n",
            "Unpacking libatk-wrapper-java (0.38.0-5build1) ...\n",
            "Selecting previously unselected package libatk-wrapper-java-jni:amd64.\n",
            "Preparing to unpack .../9-libatk-wrapper-java-jni_0.38.0-5build1_amd64.deb ...\n",
            "Unpacking libatk-wrapper-java-jni:amd64 (0.38.0-5build1) ...\n",
            "Setting up default-jre-headless (2:1.11-72build2) ...\n",
            "Setting up libxtst6:amd64 (2:1.2.3-1build4) ...\n",
            "Setting up libxxf86dga1:amd64 (2:1.1.5-0ubuntu3) ...\n",
            "Setting up openjdk-11-jre:amd64 (11.0.28+6-1ubuntu1~22.04.1) ...\n",
            "Setting up default-jre (2:1.11-72build2) ...\n",
            "Setting up fonts-dejavu-core (2.37-2build1) ...\n",
            "Setting up fonts-dejavu-extra (2.37-2build1) ...\n",
            "Setting up x11-utils (7.7+5build2) ...\n",
            "Setting up libatk-wrapper-java (0.38.0-5build1) ...\n",
            "Setting up libatk-wrapper-java-jni:amd64 (0.38.0-5build1) ...\n",
            "Processing triggers for fontconfig (2.13.1-4.2ubuntu5) ...\n",
            "Processing triggers for hicolor-icon-theme (0.17-2) ...\n",
            "Processing triggers for libc-bin (2.35-0ubuntu3.8) ...\n",
            "/sbin/ldconfig.real: /usr/local/lib/libtbbbind_2_5.so.3 is not a symbolic link\n",
            "\n",
            "/sbin/ldconfig.real: /usr/local/lib/libtbbmalloc_proxy.so.2 is not a symbolic link\n",
            "\n",
            "/sbin/ldconfig.real: /usr/local/lib/libur_adapter_level_zero_v2.so.0 is not a symbolic link\n",
            "\n",
            "/sbin/ldconfig.real: /usr/local/lib/libur_loader.so.0 is not a symbolic link\n",
            "\n",
            "/sbin/ldconfig.real: /usr/local/lib/libtbb.so.12 is not a symbolic link\n",
            "\n",
            "/sbin/ldconfig.real: /usr/local/lib/libtbbbind.so.3 is not a symbolic link\n",
            "\n",
            "/sbin/ldconfig.real: /usr/local/lib/libur_adapter_level_zero.so.0 is not a symbolic link\n",
            "\n",
            "/sbin/ldconfig.real: /usr/local/lib/libtbbbind_2_0.so.3 is not a symbolic link\n",
            "\n",
            "/sbin/ldconfig.real: /usr/local/lib/libur_adapter_opencl.so.0 is not a symbolic link\n",
            "\n",
            "/sbin/ldconfig.real: /usr/local/lib/libhwloc.so.15 is not a symbolic link\n",
            "\n",
            "/sbin/ldconfig.real: /usr/local/lib/libumf.so.0 is not a symbolic link\n",
            "\n",
            "/sbin/ldconfig.real: /usr/local/lib/libtcm_debug.so.1 is not a symbolic link\n",
            "\n",
            "/sbin/ldconfig.real: /usr/local/lib/libtcm.so.1 is not a symbolic link\n",
            "\n",
            "/sbin/ldconfig.real: /usr/local/lib/libtbbmalloc.so.2 is not a symbolic link\n",
            "\n",
            "Processing triggers for man-db (2.10.2-1) ...\n",
            "Processing triggers for mailcap (3.70+nmu1ubuntu1) ...\n",
            "openjdk version \"11.0.28\" 2025-07-15\n",
            "OpenJDK Runtime Environment (build 11.0.28+6-post-Ubuntu-1ubuntu122.04.1)\n",
            "OpenJDK 64-Bit Server VM (build 11.0.28+6-post-Ubuntu-1ubuntu122.04.1, mixed mode, sharing)\n"
          ]
        }
      ]
    },
    {
      "cell_type": "markdown",
      "metadata": {
        "id": "BY7fk4zTLAKp"
      },
      "source": [
        "#**I. R Setup Sections**"
      ]
    },
    {
      "cell_type": "code",
      "metadata": {
        "id": "6GEkJXmWkncm",
        "colab": {
          "base_uri": "https://localhost:8080/"
        },
        "outputId": "65c15cf0-bf7f-4575-accc-59e6e0792b05"
      },
      "source": [
        "%%R\n",
        "#I. Setup ---------------------------------------------------\n",
        "\n",
        "#Load Packages\n",
        "\n",
        "a <- installed.packages()\n",
        "pkgs <- rownames(a)\n",
        "\n",
        "\n",
        "#Packages used in today's examples:\n",
        "if(\"tidyverse\" %in% pkgs == FALSE){\n",
        "  install.packages(\"tidyverse\")\n",
        "}\n",
        "if(\"stringr\" %in% pkgs == FALSE){\n",
        "  install.packages(\"stringr\")\n",
        "}\n",
        "if(\"ggplot2\" %in% pkgs == FALSE){\n",
        "  install.packages(\"ggplot2\")\n",
        "}\n",
        "if(\"ggExtra\" %in% pkgs == FALSE){\n",
        "  install.packages(\"ggExtra\")\n",
        "}\n",
        "if(\"directlabels\" %in% pkgs == FALSE){\n",
        "  install.packages(\"directlabels\")\n",
        "}\n",
        "if(\"data.table\" %in% pkgs == FALSE){\n",
        "  install.packages(\"data.table\")\n",
        "}\n",
        "if(\"ROCR\" %in% pkgs == FALSE){\n",
        "  install.packages(\"ROCR\")\n",
        "}\n",
        "if(\"GGally\" %in% pkgs == FALSE) {\n",
        "  install.packages(\"GGally\")\n",
        "}\n",
        "if(\"gridExtra\" %in% pkgs == FALSE) {\n",
        "  install.packages(\"gridExtra\")\n",
        "}\n",
        "if(\"grid\" %in% pkgs == FALSE) {\n",
        "  install.packages(\"grid\")\n",
        "}\n",
        "if(\"rpart.plot\" %in% pkgs == FALSE) {\n",
        "  install.packages(\"rpart.plot\")\n",
        "}\n",
        "if(\"rpart\" %in% pkgs==FALSE) {\n",
        "  install.packages(\"rpart\")\n",
        "}"
      ],
      "execution_count": null,
      "outputs": [
        {
          "output_type": "stream",
          "name": "stderr",
          "text": [
            "WARNING:rpy2.rinterface_lib.callbacks:R[write to console]: Installing package into ‘/usr/local/lib/R/site-library’\n",
            "(as ‘lib’ is unspecified)\n",
            "\n",
            "WARNING:rpy2.rinterface_lib.callbacks:R[write to console]: also installing the dependencies ‘colourpicker’, ‘shinyjs’\n",
            "\n",
            "\n",
            "WARNING:rpy2.rinterface_lib.callbacks:R[write to console]: trying URL 'https://cran.rstudio.com/src/contrib/colourpicker_1.3.0.tar.gz'\n",
            "\n",
            "WARNING:rpy2.rinterface_lib.callbacks:R[write to console]: trying URL 'https://cran.rstudio.com/src/contrib/shinyjs_2.1.0.tar.gz'\n",
            "\n",
            "WARNING:rpy2.rinterface_lib.callbacks:R[write to console]: trying URL 'https://cran.rstudio.com/src/contrib/ggExtra_0.11.0.tar.gz'\n",
            "\n",
            "WARNING:rpy2.rinterface_lib.callbacks:R[write to console]: \n",
            "\n",
            "WARNING:rpy2.rinterface_lib.callbacks:R[write to console]: \n",
            "WARNING:rpy2.rinterface_lib.callbacks:R[write to console]: The downloaded source packages are in\n",
            "\t‘/tmp/RtmpEWMnRx/downloaded_packages’\n",
            "WARNING:rpy2.rinterface_lib.callbacks:R[write to console]: \n",
            "WARNING:rpy2.rinterface_lib.callbacks:R[write to console]: \n",
            "\n",
            "WARNING:rpy2.rinterface_lib.callbacks:R[write to console]: Installing package into ‘/usr/local/lib/R/site-library’\n",
            "(as ‘lib’ is unspecified)\n",
            "\n",
            "WARNING:rpy2.rinterface_lib.callbacks:R[write to console]: also installing the dependency ‘quadprog’\n",
            "\n",
            "\n",
            "WARNING:rpy2.rinterface_lib.callbacks:R[write to console]: trying URL 'https://cran.rstudio.com/src/contrib/quadprog_1.5-8.tar.gz'\n",
            "\n",
            "WARNING:rpy2.rinterface_lib.callbacks:R[write to console]: trying URL 'https://cran.rstudio.com/src/contrib/directlabels_2025.6.24.tar.gz'\n",
            "\n",
            "WARNING:rpy2.rinterface_lib.callbacks:R[write to console]: \n",
            "\n",
            "WARNING:rpy2.rinterface_lib.callbacks:R[write to console]: \n",
            "WARNING:rpy2.rinterface_lib.callbacks:R[write to console]: The downloaded source packages are in\n",
            "\t‘/tmp/RtmpEWMnRx/downloaded_packages’\n",
            "WARNING:rpy2.rinterface_lib.callbacks:R[write to console]: \n",
            "WARNING:rpy2.rinterface_lib.callbacks:R[write to console]: \n",
            "\n",
            "WARNING:rpy2.rinterface_lib.callbacks:R[write to console]: Installing package into ‘/usr/local/lib/R/site-library’\n",
            "(as ‘lib’ is unspecified)\n",
            "\n",
            "WARNING:rpy2.rinterface_lib.callbacks:R[write to console]: also installing the dependencies ‘bitops’, ‘gtools’, ‘caTools’, ‘gplots’\n",
            "\n",
            "\n",
            "WARNING:rpy2.rinterface_lib.callbacks:R[write to console]: trying URL 'https://cran.rstudio.com/src/contrib/bitops_1.0-9.tar.gz'\n",
            "\n",
            "WARNING:rpy2.rinterface_lib.callbacks:R[write to console]: trying URL 'https://cran.rstudio.com/src/contrib/gtools_3.9.5.tar.gz'\n",
            "\n",
            "WARNING:rpy2.rinterface_lib.callbacks:R[write to console]: trying URL 'https://cran.rstudio.com/src/contrib/caTools_1.18.3.tar.gz'\n",
            "\n",
            "WARNING:rpy2.rinterface_lib.callbacks:R[write to console]: trying URL 'https://cran.rstudio.com/src/contrib/gplots_3.2.0.tar.gz'\n",
            "\n",
            "WARNING:rpy2.rinterface_lib.callbacks:R[write to console]: trying URL 'https://cran.rstudio.com/src/contrib/ROCR_1.0-11.tar.gz'\n",
            "\n",
            "WARNING:rpy2.rinterface_lib.callbacks:R[write to console]: \n",
            "\n",
            "WARNING:rpy2.rinterface_lib.callbacks:R[write to console]: \n",
            "WARNING:rpy2.rinterface_lib.callbacks:R[write to console]: The downloaded source packages are in\n",
            "\t‘/tmp/RtmpEWMnRx/downloaded_packages’\n",
            "WARNING:rpy2.rinterface_lib.callbacks:R[write to console]: \n",
            "WARNING:rpy2.rinterface_lib.callbacks:R[write to console]: \n",
            "\n",
            "WARNING:rpy2.rinterface_lib.callbacks:R[write to console]: Installing package into ‘/usr/local/lib/R/site-library’\n",
            "(as ‘lib’ is unspecified)\n",
            "\n",
            "WARNING:rpy2.rinterface_lib.callbacks:R[write to console]: also installing the dependencies ‘patchwork’, ‘ggstats’\n",
            "\n",
            "\n",
            "WARNING:rpy2.rinterface_lib.callbacks:R[write to console]: trying URL 'https://cran.rstudio.com/src/contrib/patchwork_1.3.2.tar.gz'\n",
            "\n",
            "WARNING:rpy2.rinterface_lib.callbacks:R[write to console]: trying URL 'https://cran.rstudio.com/src/contrib/ggstats_0.11.0.tar.gz'\n",
            "\n",
            "WARNING:rpy2.rinterface_lib.callbacks:R[write to console]: trying URL 'https://cran.rstudio.com/src/contrib/GGally_2.4.0.tar.gz'\n",
            "\n",
            "WARNING:rpy2.rinterface_lib.callbacks:R[write to console]: \n",
            "\n",
            "WARNING:rpy2.rinterface_lib.callbacks:R[write to console]: \n",
            "WARNING:rpy2.rinterface_lib.callbacks:R[write to console]: The downloaded source packages are in\n",
            "\t‘/tmp/RtmpEWMnRx/downloaded_packages’\n",
            "WARNING:rpy2.rinterface_lib.callbacks:R[write to console]: \n",
            "WARNING:rpy2.rinterface_lib.callbacks:R[write to console]: \n",
            "\n",
            "WARNING:rpy2.rinterface_lib.callbacks:R[write to console]: Installing package into ‘/usr/local/lib/R/site-library’\n",
            "(as ‘lib’ is unspecified)\n",
            "\n",
            "WARNING:rpy2.rinterface_lib.callbacks:R[write to console]: trying URL 'https://cran.rstudio.com/src/contrib/gridExtra_2.3.tar.gz'\n",
            "\n",
            "WARNING:rpy2.rinterface_lib.callbacks:R[write to console]: Content type 'application/x-gzip'\n",
            "WARNING:rpy2.rinterface_lib.callbacks:R[write to console]:  length 1062844 bytes (1.0 MB)\n",
            "\n",
            "WARNING:rpy2.rinterface_lib.callbacks:R[write to console]: =\n",
            "WARNING:rpy2.rinterface_lib.callbacks:R[write to console]: =\n",
            "WARNING:rpy2.rinterface_lib.callbacks:R[write to console]: =\n",
            "WARNING:rpy2.rinterface_lib.callbacks:R[write to console]: =\n",
            "WARNING:rpy2.rinterface_lib.callbacks:R[write to console]: =\n",
            "WARNING:rpy2.rinterface_lib.callbacks:R[write to console]: =\n",
            "WARNING:rpy2.rinterface_lib.callbacks:R[write to console]: =\n",
            "WARNING:rpy2.rinterface_lib.callbacks:R[write to console]: =\n",
            "WARNING:rpy2.rinterface_lib.callbacks:R[write to console]: =\n",
            "WARNING:rpy2.rinterface_lib.callbacks:R[write to console]: =\n",
            "WARNING:rpy2.rinterface_lib.callbacks:R[write to console]: =\n",
            "WARNING:rpy2.rinterface_lib.callbacks:R[write to console]: =\n",
            "WARNING:rpy2.rinterface_lib.callbacks:R[write to console]: =\n",
            "WARNING:rpy2.rinterface_lib.callbacks:R[write to console]: =\n",
            "WARNING:rpy2.rinterface_lib.callbacks:R[write to console]: =\n",
            "WARNING:rpy2.rinterface_lib.callbacks:R[write to console]: =\n",
            "WARNING:rpy2.rinterface_lib.callbacks:R[write to console]: =\n",
            "WARNING:rpy2.rinterface_lib.callbacks:R[write to console]: =\n",
            "WARNING:rpy2.rinterface_lib.callbacks:R[write to console]: =\n",
            "WARNING:rpy2.rinterface_lib.callbacks:R[write to console]: =\n",
            "WARNING:rpy2.rinterface_lib.callbacks:R[write to console]: =\n",
            "WARNING:rpy2.rinterface_lib.callbacks:R[write to console]: =\n",
            "WARNING:rpy2.rinterface_lib.callbacks:R[write to console]: =\n",
            "WARNING:rpy2.rinterface_lib.callbacks:R[write to console]: =\n",
            "WARNING:rpy2.rinterface_lib.callbacks:R[write to console]: =\n",
            "WARNING:rpy2.rinterface_lib.callbacks:R[write to console]: =\n",
            "WARNING:rpy2.rinterface_lib.callbacks:R[write to console]: =\n",
            "WARNING:rpy2.rinterface_lib.callbacks:R[write to console]: =\n",
            "WARNING:rpy2.rinterface_lib.callbacks:R[write to console]: =\n",
            "WARNING:rpy2.rinterface_lib.callbacks:R[write to console]: =\n",
            "WARNING:rpy2.rinterface_lib.callbacks:R[write to console]: =\n",
            "WARNING:rpy2.rinterface_lib.callbacks:R[write to console]: =\n",
            "WARNING:rpy2.rinterface_lib.callbacks:R[write to console]: =\n",
            "WARNING:rpy2.rinterface_lib.callbacks:R[write to console]: =\n",
            "WARNING:rpy2.rinterface_lib.callbacks:R[write to console]: =\n",
            "WARNING:rpy2.rinterface_lib.callbacks:R[write to console]: =\n",
            "WARNING:rpy2.rinterface_lib.callbacks:R[write to console]: =\n",
            "WARNING:rpy2.rinterface_lib.callbacks:R[write to console]: =\n",
            "WARNING:rpy2.rinterface_lib.callbacks:R[write to console]: =\n",
            "WARNING:rpy2.rinterface_lib.callbacks:R[write to console]: =\n",
            "WARNING:rpy2.rinterface_lib.callbacks:R[write to console]: =\n",
            "WARNING:rpy2.rinterface_lib.callbacks:R[write to console]: =\n",
            "WARNING:rpy2.rinterface_lib.callbacks:R[write to console]: =\n",
            "WARNING:rpy2.rinterface_lib.callbacks:R[write to console]: =\n",
            "WARNING:rpy2.rinterface_lib.callbacks:R[write to console]: =\n",
            "WARNING:rpy2.rinterface_lib.callbacks:R[write to console]: =\n",
            "WARNING:rpy2.rinterface_lib.callbacks:R[write to console]: =\n",
            "WARNING:rpy2.rinterface_lib.callbacks:R[write to console]: =\n",
            "WARNING:rpy2.rinterface_lib.callbacks:R[write to console]: =\n",
            "WARNING:rpy2.rinterface_lib.callbacks:R[write to console]: =\n",
            "WARNING:rpy2.rinterface_lib.callbacks:R[write to console]: \n",
            "\n",
            "WARNING:rpy2.rinterface_lib.callbacks:R[write to console]: downloaded 1.0 MB\n",
            "\n",
            "\n",
            "WARNING:rpy2.rinterface_lib.callbacks:R[write to console]: \n",
            "\n",
            "WARNING:rpy2.rinterface_lib.callbacks:R[write to console]: \n",
            "WARNING:rpy2.rinterface_lib.callbacks:R[write to console]: The downloaded source packages are in\n",
            "\t‘/tmp/RtmpEWMnRx/downloaded_packages’\n",
            "WARNING:rpy2.rinterface_lib.callbacks:R[write to console]: \n",
            "WARNING:rpy2.rinterface_lib.callbacks:R[write to console]: \n",
            "\n",
            "WARNING:rpy2.rinterface_lib.callbacks:R[write to console]: Installing package into ‘/usr/local/lib/R/site-library’\n",
            "(as ‘lib’ is unspecified)\n",
            "\n",
            "WARNING:rpy2.rinterface_lib.callbacks:R[write to console]: trying URL 'https://cran.rstudio.com/src/contrib/rpart.plot_3.1.3.tar.gz'\n",
            "\n",
            "WARNING:rpy2.rinterface_lib.callbacks:R[write to console]: Content type 'application/x-gzip'\n",
            "WARNING:rpy2.rinterface_lib.callbacks:R[write to console]:  length 671433 bytes (655 KB)\n",
            "\n",
            "WARNING:rpy2.rinterface_lib.callbacks:R[write to console]: =\n",
            "WARNING:rpy2.rinterface_lib.callbacks:R[write to console]: =\n",
            "WARNING:rpy2.rinterface_lib.callbacks:R[write to console]: =\n",
            "WARNING:rpy2.rinterface_lib.callbacks:R[write to console]: =\n",
            "WARNING:rpy2.rinterface_lib.callbacks:R[write to console]: =\n",
            "WARNING:rpy2.rinterface_lib.callbacks:R[write to console]: =\n",
            "WARNING:rpy2.rinterface_lib.callbacks:R[write to console]: =\n",
            "WARNING:rpy2.rinterface_lib.callbacks:R[write to console]: =\n",
            "WARNING:rpy2.rinterface_lib.callbacks:R[write to console]: =\n",
            "WARNING:rpy2.rinterface_lib.callbacks:R[write to console]: =\n",
            "WARNING:rpy2.rinterface_lib.callbacks:R[write to console]: =\n",
            "WARNING:rpy2.rinterface_lib.callbacks:R[write to console]: =\n",
            "WARNING:rpy2.rinterface_lib.callbacks:R[write to console]: =\n",
            "WARNING:rpy2.rinterface_lib.callbacks:R[write to console]: =\n",
            "WARNING:rpy2.rinterface_lib.callbacks:R[write to console]: =\n",
            "WARNING:rpy2.rinterface_lib.callbacks:R[write to console]: =\n",
            "WARNING:rpy2.rinterface_lib.callbacks:R[write to console]: =\n",
            "WARNING:rpy2.rinterface_lib.callbacks:R[write to console]: =\n",
            "WARNING:rpy2.rinterface_lib.callbacks:R[write to console]: =\n",
            "WARNING:rpy2.rinterface_lib.callbacks:R[write to console]: =\n",
            "WARNING:rpy2.rinterface_lib.callbacks:R[write to console]: =\n",
            "WARNING:rpy2.rinterface_lib.callbacks:R[write to console]: =\n",
            "WARNING:rpy2.rinterface_lib.callbacks:R[write to console]: =\n",
            "WARNING:rpy2.rinterface_lib.callbacks:R[write to console]: =\n",
            "WARNING:rpy2.rinterface_lib.callbacks:R[write to console]: =\n",
            "WARNING:rpy2.rinterface_lib.callbacks:R[write to console]: =\n",
            "WARNING:rpy2.rinterface_lib.callbacks:R[write to console]: =\n",
            "WARNING:rpy2.rinterface_lib.callbacks:R[write to console]: =\n",
            "WARNING:rpy2.rinterface_lib.callbacks:R[write to console]: =\n",
            "WARNING:rpy2.rinterface_lib.callbacks:R[write to console]: =\n",
            "WARNING:rpy2.rinterface_lib.callbacks:R[write to console]: =\n",
            "WARNING:rpy2.rinterface_lib.callbacks:R[write to console]: =\n",
            "WARNING:rpy2.rinterface_lib.callbacks:R[write to console]: =\n",
            "WARNING:rpy2.rinterface_lib.callbacks:R[write to console]: =\n",
            "WARNING:rpy2.rinterface_lib.callbacks:R[write to console]: =\n",
            "WARNING:rpy2.rinterface_lib.callbacks:R[write to console]: =\n",
            "WARNING:rpy2.rinterface_lib.callbacks:R[write to console]: =\n",
            "WARNING:rpy2.rinterface_lib.callbacks:R[write to console]: =\n",
            "WARNING:rpy2.rinterface_lib.callbacks:R[write to console]: =\n",
            "WARNING:rpy2.rinterface_lib.callbacks:R[write to console]: =\n",
            "WARNING:rpy2.rinterface_lib.callbacks:R[write to console]: =\n",
            "WARNING:rpy2.rinterface_lib.callbacks:R[write to console]: =\n",
            "WARNING:rpy2.rinterface_lib.callbacks:R[write to console]: =\n",
            "WARNING:rpy2.rinterface_lib.callbacks:R[write to console]: =\n",
            "WARNING:rpy2.rinterface_lib.callbacks:R[write to console]: =\n",
            "WARNING:rpy2.rinterface_lib.callbacks:R[write to console]: =\n",
            "WARNING:rpy2.rinterface_lib.callbacks:R[write to console]: =\n",
            "WARNING:rpy2.rinterface_lib.callbacks:R[write to console]: =\n",
            "WARNING:rpy2.rinterface_lib.callbacks:R[write to console]: =\n",
            "WARNING:rpy2.rinterface_lib.callbacks:R[write to console]: =\n",
            "WARNING:rpy2.rinterface_lib.callbacks:R[write to console]: \n",
            "\n",
            "WARNING:rpy2.rinterface_lib.callbacks:R[write to console]: downloaded 655 KB\n",
            "\n",
            "\n",
            "WARNING:rpy2.rinterface_lib.callbacks:R[write to console]: \n",
            "\n",
            "WARNING:rpy2.rinterface_lib.callbacks:R[write to console]: \n",
            "WARNING:rpy2.rinterface_lib.callbacks:R[write to console]: The downloaded source packages are in\n",
            "\t‘/tmp/RtmpEWMnRx/downloaded_packages’\n",
            "WARNING:rpy2.rinterface_lib.callbacks:R[write to console]: \n",
            "WARNING:rpy2.rinterface_lib.callbacks:R[write to console]: \n",
            "\n"
          ]
        }
      ]
    },
    {
      "cell_type": "code",
      "metadata": {
        "id": "KFdWBPiiSiSd",
        "colab": {
          "base_uri": "https://localhost:8080/"
        },
        "outputId": "29a900f6-c817-44fb-9198-553da6c14862"
      },
      "source": [
        "%%R\n",
        "require(dplyr)\n",
        "require(tidyverse)\n",
        "require(stringr)\n",
        "require(ggplot2)\n",
        "require(ggExtra)\n",
        "require(directlabels)\n",
        "require(data.table)\n",
        "require(ROCR)\n",
        "require(gridExtra)\n",
        "require(grid)\n",
        "require(rpart)\n",
        "require(rpart.plot)\n",
        "require(GGally)"
      ],
      "execution_count": null,
      "outputs": [
        {
          "output_type": "stream",
          "name": "stderr",
          "text": [
            "WARNING:rpy2.rinterface_lib.callbacks:R[write to console]: Loading required package: dplyr\n",
            "\n",
            "WARNING:rpy2.rinterface_lib.callbacks:R[write to console]: \n",
            "Attaching package: ‘dplyr’\n",
            "\n",
            "\n",
            "WARNING:rpy2.rinterface_lib.callbacks:R[write to console]: The following objects are masked from ‘package:stats’:\n",
            "\n",
            "    filter, lag\n",
            "\n",
            "\n",
            "WARNING:rpy2.rinterface_lib.callbacks:R[write to console]: The following objects are masked from ‘package:base’:\n",
            "\n",
            "    intersect, setdiff, setequal, union\n",
            "\n",
            "\n",
            "WARNING:rpy2.rinterface_lib.callbacks:R[write to console]: Loading required package: tidyverse\n",
            "\n"
          ]
        },
        {
          "output_type": "stream",
          "name": "stdout",
          "text": [
            "── Attaching core tidyverse packages ──────────────────────── tidyverse 2.0.0 ──\n",
            "✔ forcats   1.0.1     ✔ readr     2.1.5\n",
            "✔ ggplot2   4.0.0     ✔ stringr   1.5.2\n",
            "✔ lubridate 1.9.4     ✔ tibble    3.3.0\n",
            "✔ purrr     1.1.0     ✔ tidyr     1.3.1\n",
            "── Conflicts ────────────────────────────────────────── tidyverse_conflicts() ──\n",
            "✖ dplyr::filter() masks stats::filter()\n",
            "✖ dplyr::lag()    masks stats::lag()\n",
            "ℹ Use the conflicted package (<http://conflicted.r-lib.org/>) to force all conflicts to become errors\n"
          ]
        },
        {
          "output_type": "stream",
          "name": "stderr",
          "text": [
            "WARNING:rpy2.rinterface_lib.callbacks:R[write to console]: Loading required package: ggExtra\n",
            "\n",
            "WARNING:rpy2.rinterface_lib.callbacks:R[write to console]: Loading required package: directlabels\n",
            "\n",
            "WARNING:rpy2.rinterface_lib.callbacks:R[write to console]: Loading required package: data.table\n",
            "\n",
            "WARNING:rpy2.rinterface_lib.callbacks:R[write to console]: data.table 1.17.8 using 1 threads (see ?getDTthreads).  \n",
            "WARNING:rpy2.rinterface_lib.callbacks:R[write to console]: Latest news: r-datatable.com\n",
            "\n",
            "WARNING:rpy2.rinterface_lib.callbacks:R[write to console]: \n",
            "Attaching package: ‘data.table’\n",
            "\n",
            "\n",
            "WARNING:rpy2.rinterface_lib.callbacks:R[write to console]: The following objects are masked from ‘package:lubridate’:\n",
            "\n",
            "    hour, isoweek, mday, minute, month, quarter, second, wday, week,\n",
            "    yday, year\n",
            "\n",
            "\n",
            "WARNING:rpy2.rinterface_lib.callbacks:R[write to console]: The following object is masked from ‘package:purrr’:\n",
            "\n",
            "    transpose\n",
            "\n",
            "\n",
            "WARNING:rpy2.rinterface_lib.callbacks:R[write to console]: The following objects are masked from ‘package:dplyr’:\n",
            "\n",
            "    between, first, last\n",
            "\n",
            "\n",
            "WARNING:rpy2.rinterface_lib.callbacks:R[write to console]: Loading required package: ROCR\n",
            "\n",
            "WARNING:rpy2.rinterface_lib.callbacks:R[write to console]: Loading required package: gridExtra\n",
            "\n",
            "WARNING:rpy2.rinterface_lib.callbacks:R[write to console]: \n",
            "Attaching package: ‘gridExtra’\n",
            "\n",
            "\n",
            "WARNING:rpy2.rinterface_lib.callbacks:R[write to console]: The following object is masked from ‘package:dplyr’:\n",
            "\n",
            "    combine\n",
            "\n",
            "\n",
            "WARNING:rpy2.rinterface_lib.callbacks:R[write to console]: Loading required package: grid\n",
            "\n",
            "WARNING:rpy2.rinterface_lib.callbacks:R[write to console]: Loading required package: rpart\n",
            "\n",
            "WARNING:rpy2.rinterface_lib.callbacks:R[write to console]: Loading required package: rpart.plot\n",
            "\n",
            "WARNING:rpy2.rinterface_lib.callbacks:R[write to console]: Loading required package: GGally\n",
            "\n"
          ]
        }
      ]
    },
    {
      "cell_type": "code",
      "metadata": {
        "id": "35v9Etg11cvD",
        "colab": {
          "base_uri": "https://localhost:8080/"
        },
        "outputId": "3ec51024-d8e4-496e-dd87-5762e2aadee5"
      },
      "source": [
        "%%R\n",
        "\n",
        "#H2o is the Machine Learning package we will be using. It has both an R implementation and a Python implemenation.\n",
        "#The h2o.init() is commented out below because we are not going to use it for this HW.\n",
        "\n",
        "install.packages(\"h2o\")\n",
        "require(h2o)\n",
        "\n",
        "h2o.init()\n",
        "#h2o.shutdown()"
      ],
      "execution_count": null,
      "outputs": [
        {
          "output_type": "stream",
          "name": "stderr",
          "text": [
            "WARNING:rpy2.rinterface_lib.callbacks:R[write to console]: Installing package into ‘/usr/local/lib/R/site-library’\n",
            "(as ‘lib’ is unspecified)\n",
            "\n",
            "WARNING:rpy2.rinterface_lib.callbacks:R[write to console]: also installing the dependency ‘RCurl’\n",
            "\n",
            "\n",
            "WARNING:rpy2.rinterface_lib.callbacks:R[write to console]: trying URL 'https://cran.rstudio.com/src/contrib/RCurl_1.98-1.17.tar.gz'\n",
            "\n",
            "WARNING:rpy2.rinterface_lib.callbacks:R[write to console]: trying URL 'https://cran.rstudio.com/src/contrib/h2o_3.44.0.3.tar.gz'\n",
            "\n",
            "WARNING:rpy2.rinterface_lib.callbacks:R[write to console]: \n",
            "\n",
            "WARNING:rpy2.rinterface_lib.callbacks:R[write to console]: \n",
            "WARNING:rpy2.rinterface_lib.callbacks:R[write to console]: The downloaded source packages are in\n",
            "\t‘/tmp/RtmpEWMnRx/downloaded_packages’\n",
            "WARNING:rpy2.rinterface_lib.callbacks:R[write to console]: \n",
            "WARNING:rpy2.rinterface_lib.callbacks:R[write to console]: \n",
            "\n",
            "WARNING:rpy2.rinterface_lib.callbacks:R[write to console]: Loading required package: h2o\n",
            "\n",
            "WARNING:rpy2.rinterface_lib.callbacks:R[write to console]: \n",
            "----------------------------------------------------------------------\n",
            "\n",
            "Your next step is to start H2O:\n",
            "    > h2o.init()\n",
            "\n",
            "For H2O package documentation, ask for help:\n",
            "    > ??h2o\n",
            "\n",
            "After starting H2O, you can use the Web UI at http://localhost:54321\n",
            "For more information visit https://docs.h2o.ai\n",
            "\n",
            "----------------------------------------------------------------------\n",
            "\n",
            "\n",
            "WARNING:rpy2.rinterface_lib.callbacks:R[write to console]: \n",
            "Attaching package: ‘h2o’\n",
            "\n",
            "\n",
            "WARNING:rpy2.rinterface_lib.callbacks:R[write to console]: The following objects are masked from ‘package:data.table’:\n",
            "\n",
            "    hour, month, week, year\n",
            "\n",
            "\n",
            "WARNING:rpy2.rinterface_lib.callbacks:R[write to console]: The following objects are masked from ‘package:lubridate’:\n",
            "\n",
            "    day, hour, month, week, year\n",
            "\n",
            "\n",
            "WARNING:rpy2.rinterface_lib.callbacks:R[write to console]: The following objects are masked from ‘package:stats’:\n",
            "\n",
            "    cor, sd, var\n",
            "\n",
            "\n",
            "WARNING:rpy2.rinterface_lib.callbacks:R[write to console]: The following objects are masked from ‘package:base’:\n",
            "\n",
            "    &&, %*%, %in%, ||, apply, as.factor, as.numeric, colnames,\n",
            "    colnames<-, ifelse, is.character, is.factor, is.numeric, log,\n",
            "    log10, log1p, log2, round, signif, trunc\n",
            "\n",
            "\n"
          ]
        },
        {
          "output_type": "stream",
          "name": "stdout",
          "text": [
            "\n",
            "H2O is not running yet, starting it now...\n",
            "\n",
            "Note:  In case of errors look at the following log files:\n",
            "    /tmp/RtmpEWMnRx/file17c14dfc785/h2o_UnknownUser_started_from_r.out\n",
            "    /tmp/RtmpEWMnRx/file17c77670009/h2o_UnknownUser_started_from_r.err\n",
            "\n",
            "\n",
            "Starting H2O JVM and connecting: ..... Connection successful!\n",
            "\n",
            "R is connected to the H2O cluster: \n",
            "    H2O cluster uptime:         3 seconds 315 milliseconds \n",
            "    H2O cluster timezone:       Etc/UTC \n",
            "    H2O data parsing timezone:  UTC \n",
            "    H2O cluster version:        3.44.0.3 \n",
            "    H2O cluster version age:    1 year, 9 months and 10 days \n",
            "    H2O cluster name:           H2O_started_from_R_root_btm282 \n",
            "    H2O cluster total nodes:    1 \n",
            "    H2O cluster total memory:   3.17 GB \n",
            "    H2O cluster total cores:    2 \n",
            "    H2O cluster allowed cores:  2 \n",
            "    H2O cluster healthy:        TRUE \n",
            "    H2O Connection ip:          localhost \n",
            "    H2O Connection port:        54321 \n",
            "    H2O Connection proxy:       NA \n",
            "    H2O Internal Security:      FALSE \n",
            "    R Version:                  R version 4.5.1 (2025-06-13) \n",
            "\n"
          ]
        }
      ]
    },
    {
      "cell_type": "markdown",
      "metadata": {
        "id": "M-YavnWULjv7"
      },
      "source": [
        "#**II. R Data Loading**"
      ]
    },
    {
      "cell_type": "code",
      "metadata": {
        "id": "UeiHz9OKIuwN",
        "colab": {
          "base_uri": "https://localhost:8080/"
        },
        "outputId": "8a11bbc0-0d52-4945-d6f3-818f1d4cfa08"
      },
      "source": [
        "%%R\n",
        "hotel <- fread(\"https://raw.githubusercontent.com/jjghockey/DESC624/refs/heads/main/hotel_booking.csv\", stringsAsFactors=TRUE)\n"
      ],
      "execution_count": null,
      "outputs": [
        {
          "output_type": "stream",
          "name": "stderr",
          "text": [
            "WARNING:rpy2.rinterface_lib.callbacks:R[write to console]: trying URL 'https://raw.githubusercontent.com/jjghockey/DESC624/refs/heads/main/hotel_booking.csv'\n",
            "\n",
            "WARNING:rpy2.rinterface_lib.callbacks:R[write to console]: Content type 'text/plain; charset=utf-8'\n",
            "WARNING:rpy2.rinterface_lib.callbacks:R[write to console]:  length 25112317 bytes (23.9 MB)\n",
            "\n",
            "WARNING:rpy2.rinterface_lib.callbacks:R[write to console]: =\n",
            "WARNING:rpy2.rinterface_lib.callbacks:R[write to console]: =\n",
            "WARNING:rpy2.rinterface_lib.callbacks:R[write to console]: =\n",
            "WARNING:rpy2.rinterface_lib.callbacks:R[write to console]: =\n",
            "WARNING:rpy2.rinterface_lib.callbacks:R[write to console]: =\n",
            "WARNING:rpy2.rinterface_lib.callbacks:R[write to console]: =\n",
            "WARNING:rpy2.rinterface_lib.callbacks:R[write to console]: =\n",
            "WARNING:rpy2.rinterface_lib.callbacks:R[write to console]: =\n",
            "WARNING:rpy2.rinterface_lib.callbacks:R[write to console]: =\n",
            "WARNING:rpy2.rinterface_lib.callbacks:R[write to console]: =\n",
            "WARNING:rpy2.rinterface_lib.callbacks:R[write to console]: =\n",
            "WARNING:rpy2.rinterface_lib.callbacks:R[write to console]: =\n",
            "WARNING:rpy2.rinterface_lib.callbacks:R[write to console]: =\n",
            "WARNING:rpy2.rinterface_lib.callbacks:R[write to console]: =\n",
            "WARNING:rpy2.rinterface_lib.callbacks:R[write to console]: =\n",
            "WARNING:rpy2.rinterface_lib.callbacks:R[write to console]: =\n",
            "WARNING:rpy2.rinterface_lib.callbacks:R[write to console]: =\n",
            "WARNING:rpy2.rinterface_lib.callbacks:R[write to console]: =\n",
            "WARNING:rpy2.rinterface_lib.callbacks:R[write to console]: =\n",
            "WARNING:rpy2.rinterface_lib.callbacks:R[write to console]: =\n",
            "WARNING:rpy2.rinterface_lib.callbacks:R[write to console]: =\n",
            "WARNING:rpy2.rinterface_lib.callbacks:R[write to console]: =\n",
            "WARNING:rpy2.rinterface_lib.callbacks:R[write to console]: =\n",
            "WARNING:rpy2.rinterface_lib.callbacks:R[write to console]: =\n",
            "WARNING:rpy2.rinterface_lib.callbacks:R[write to console]: =\n",
            "WARNING:rpy2.rinterface_lib.callbacks:R[write to console]: =\n",
            "WARNING:rpy2.rinterface_lib.callbacks:R[write to console]: =\n",
            "WARNING:rpy2.rinterface_lib.callbacks:R[write to console]: =\n",
            "WARNING:rpy2.rinterface_lib.callbacks:R[write to console]: =\n",
            "WARNING:rpy2.rinterface_lib.callbacks:R[write to console]: =\n",
            "WARNING:rpy2.rinterface_lib.callbacks:R[write to console]: =\n",
            "WARNING:rpy2.rinterface_lib.callbacks:R[write to console]: =\n",
            "WARNING:rpy2.rinterface_lib.callbacks:R[write to console]: =\n",
            "WARNING:rpy2.rinterface_lib.callbacks:R[write to console]: =\n",
            "WARNING:rpy2.rinterface_lib.callbacks:R[write to console]: =\n",
            "WARNING:rpy2.rinterface_lib.callbacks:R[write to console]: =\n",
            "WARNING:rpy2.rinterface_lib.callbacks:R[write to console]: =\n",
            "WARNING:rpy2.rinterface_lib.callbacks:R[write to console]: =\n",
            "WARNING:rpy2.rinterface_lib.callbacks:R[write to console]: =\n",
            "WARNING:rpy2.rinterface_lib.callbacks:R[write to console]: =\n",
            "WARNING:rpy2.rinterface_lib.callbacks:R[write to console]: =\n",
            "WARNING:rpy2.rinterface_lib.callbacks:R[write to console]: =\n",
            "WARNING:rpy2.rinterface_lib.callbacks:R[write to console]: =\n",
            "WARNING:rpy2.rinterface_lib.callbacks:R[write to console]: =\n",
            "WARNING:rpy2.rinterface_lib.callbacks:R[write to console]: =\n",
            "WARNING:rpy2.rinterface_lib.callbacks:R[write to console]: =\n",
            "WARNING:rpy2.rinterface_lib.callbacks:R[write to console]: =\n",
            "WARNING:rpy2.rinterface_lib.callbacks:R[write to console]: =\n",
            "WARNING:rpy2.rinterface_lib.callbacks:R[write to console]: =\n",
            "WARNING:rpy2.rinterface_lib.callbacks:R[write to console]: =\n",
            "WARNING:rpy2.rinterface_lib.callbacks:R[write to console]: \n",
            "\n",
            "WARNING:rpy2.rinterface_lib.callbacks:R[write to console]: downloaded 23.9 MB\n",
            "\n",
            "\n"
          ]
        }
      ]
    },
    {
      "cell_type": "code",
      "source": [
        "%%R\n",
        "hotel[, c(\"reservation_status\", \"reservation_status_date\", \"name\", \"email\",\"phone-number\",\"credit_card\"):=NULL]\n",
        "print(names(hotel))"
      ],
      "metadata": {
        "colab": {
          "base_uri": "https://localhost:8080/"
        },
        "id": "Ux6X4vt_9Tdm",
        "outputId": "c7a161c9-e2d7-4df4-824c-9c7d1fa4b28a"
      },
      "execution_count": null,
      "outputs": [
        {
          "output_type": "stream",
          "name": "stdout",
          "text": [
            " [1] \"hotel\"                          \"is_canceled\"                   \n",
            " [3] \"lead_time\"                      \"arrival_date_year\"             \n",
            " [5] \"arrival_date_month\"             \"arrival_date_week_number\"      \n",
            " [7] \"arrival_date_day_of_month\"      \"stays_in_weekend_nights\"       \n",
            " [9] \"stays_in_week_nights\"           \"adults\"                        \n",
            "[11] \"children\"                       \"babies\"                        \n",
            "[13] \"meal\"                           \"country\"                       \n",
            "[15] \"market_segment\"                 \"distribution_channel\"          \n",
            "[17] \"is_repeated_guest\"              \"previous_cancellations\"        \n",
            "[19] \"previous_bookings_not_canceled\" \"reserved_room_type\"            \n",
            "[21] \"assigned_room_type\"             \"booking_changes\"               \n",
            "[23] \"deposit_type\"                   \"agent\"                         \n",
            "[25] \"company\"                        \"days_in_waiting_list\"          \n",
            "[27] \"customer_type\"                  \"adr\"                           \n",
            "[29] \"required_car_parking_spaces\"    \"total_of_special_requests\"     \n"
          ]
        }
      ]
    },
    {
      "cell_type": "markdown",
      "metadata": {
        "id": "iCwVI9mDL0O6"
      },
      "source": [
        "#**III. R Data Exploration**"
      ]
    },
    {
      "cell_type": "code",
      "metadata": {
        "id": "XTOG6MYLm-vA"
      },
      "source": [
        "%%R\n",
        "#Data Exploration -----------------------------------------\n"
      ],
      "execution_count": null,
      "outputs": []
    },
    {
      "cell_type": "markdown",
      "metadata": {
        "id": "RLPJ3liUMupz"
      },
      "source": [
        "#**IV. R Data Processing**"
      ]
    },
    {
      "cell_type": "code",
      "metadata": {
        "id": "y2DfGNMdncZ5"
      },
      "source": [
        "%%R\n",
        "#Data Processing --------------------------------------------\n",
        "#A. Adjust values based on the review of the data\n",
        "\n",
        "\n",
        "#B. Filter the data\n",
        "\n",
        "\n",
        "#C. Build additional features"
      ],
      "execution_count": null,
      "outputs": []
    },
    {
      "cell_type": "markdown",
      "metadata": {
        "id": "OD9EzGuakOmG"
      },
      "source": [
        "**QUESTION #1**\n",
        "\n",
        "1. Explain what features you are using and why?\n",
        "\n",
        "2. Explain the new features you developed.  \n",
        "\n",
        "3. Based on your EDA, why do you think they are important?"
      ]
    },
    {
      "cell_type": "markdown",
      "metadata": {
        "id": "PAUUEvaeNFR9"
      },
      "source": [
        "#**V. R Data Analysis**"
      ]
    },
    {
      "cell_type": "markdown",
      "metadata": {
        "id": "ch3dlK8aMdP5"
      },
      "source": [
        "**Prepare Model**\n",
        "\n",
        "1. You are to prepare 2 separate models and evaluations. There is only code for one below, so please copy and paste as appropriate. You should use the same X variables in both models.\n",
        "\n",
        "2. Please select from any of the following model types:\n",
        "\n",
        "  a. Random Forest\n",
        "\n",
        "  b. Logistic Regression\n",
        "\n",
        "  c. Naive Bayes\n",
        "\n",
        "  d. Gradient Boosted Machines\n",
        "\n",
        "  e. Neural Nets\n",
        "\n",
        "3. Compare and Contrast your models' prediction (via AUC or other metric), your importance features.  Answer question such as:\n",
        "\n",
        "Did the different models have different importance features?\n",
        "\n",
        "Why do you think the importance features are different?\n",
        "\n",
        "Why did you select the models that you select?"
      ]
    },
    {
      "cell_type": "code",
      "metadata": {
        "id": "UAFomMSVmqqC"
      },
      "source": [
        "%%R\n",
        "#Split your Data"
      ],
      "execution_count": null,
      "outputs": []
    },
    {
      "cell_type": "markdown",
      "metadata": {
        "id": "E7mYBEoQpg-K"
      },
      "source": [
        "**QUESTION #2**\n",
        "\n",
        "1. What tuning parameters did you pick to run and why?\n",
        "\n",
        "2. Explain the three types of \"grids?\"\n",
        "\n",
        "2. What is the advantage of grid search?\n",
        "\n",
        "3. What is the disadvantage?\n",
        "\n",
        "4. Why use Randomized Grid search?"
      ]
    },
    {
      "cell_type": "code",
      "metadata": {
        "id": "w88BHENhqNvv"
      },
      "source": [
        "%%R\n",
        "#Prepare the Environment for h2o\n",
        "\n",
        "#Load into h2o\n",
        "\n",
        "#Random Forest Hyper Tuning Parameters\n",
        "\n",
        "#GLM Hyper Tuning Parameters\n",
        "\n",
        "#Neural Net Hyper Tuning Parameters\n",
        "\n",
        "#Gradient Boosted Machine Hyper Tuning Parameters\n",
        "\n",
        "#Naive Bayes Hyper Tuning Parameters\n",
        "\n",
        "#Search Criteria (Dont Change these Parameters)\n"
      ],
      "execution_count": null,
      "outputs": []
    },
    {
      "cell_type": "code",
      "metadata": {
        "id": "2HV5o5CYyO6S"
      },
      "source": [
        "#Run and Evaluate the Model\n",
        "%%R\n",
        "#X variables\n"
      ],
      "execution_count": null,
      "outputs": []
    },
    {
      "cell_type": "code",
      "metadata": {
        "id": "Ul9cy-DasP0F"
      },
      "source": [
        "%%R\n",
        "#Model\n"
      ],
      "execution_count": null,
      "outputs": []
    },
    {
      "cell_type": "code",
      "metadata": {
        "id": "-m19ZaX7sbL9"
      },
      "source": [
        "%%R\n",
        "#Variable Importance"
      ],
      "execution_count": null,
      "outputs": []
    },
    {
      "cell_type": "code",
      "metadata": {
        "id": "EHN1vJ6njW_A"
      },
      "source": [
        "%%R\n",
        "#Prediction"
      ],
      "execution_count": null,
      "outputs": []
    },
    {
      "cell_type": "code",
      "metadata": {
        "id": "oj0sbSvDjaXJ"
      },
      "source": [
        "%%R\n",
        "#AUC"
      ],
      "execution_count": null,
      "outputs": []
    },
    {
      "cell_type": "code",
      "metadata": {
        "id": "EnWD2CKwjfxU"
      },
      "source": [
        "%%R\n",
        "#ROCR"
      ],
      "execution_count": null,
      "outputs": []
    },
    {
      "cell_type": "code",
      "metadata": {
        "id": "OjYDk7tnjh-O"
      },
      "source": [
        "%%R\n",
        "#Confusion Matrix"
      ],
      "execution_count": null,
      "outputs": []
    },
    {
      "cell_type": "markdown",
      "metadata": {
        "id": "rVduLGBE3m6S"
      },
      "source": [
        "**QUESTION #3**\n",
        "\n",
        "1. Which features are NOT important in the model? Why do you think that is?\n",
        "\n",
        "2. Were any of the features you developed important in either model?\n",
        "\n",
        "3. Why do you think they were (or where not)?\n",
        "\n",
        "4. Calculate the overall Accuracy of your model? How does the Accuracy compare to a baseline accuracy? Is Accuracy a good measure of effectiveness of your model for this data, why or why not?\n",
        "\n",
        "5. Do you think your model has a reliable prediction? Why or Why Not?\n",
        "\n",
        "6. If you were to take this model into production, how would you explain to your stakeholders how the model works and why the model is an effective tool.\n",
        "\n",
        "7. You were to prepare two models, a logistic regression and another model. How did your other model compare to the logistic regression. Which model would you select for your production model and why?"
      ]
    }
  ]
}