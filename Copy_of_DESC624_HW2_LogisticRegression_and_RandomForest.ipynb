{
  "nbformat": 4,
  "nbformat_minor": 0,
  "metadata": {
    "colab": {
      "provenance": [],
      "toc_visible": true,
      "include_colab_link": true
    },
    "kernelspec": {
      "name": "python3",
      "display_name": "Python 3"
    },
    "language_info": {
      "name": "python"
    }
  },
  "cells": [
    {
      "cell_type": "markdown",
      "metadata": {
        "id": "view-in-github",
        "colab_type": "text"
      },
      "source": [
        "<a href=\"https://colab.research.google.com/github/benmcnertney/DESC624/blob/main/Copy_of_DESC624_HW2_LogisticRegression_and_RandomForest.ipynb\" target=\"_parent\"><img src=\"https://colab.research.google.com/assets/colab-badge.svg\" alt=\"Open In Colab\"/></a>"
      ]
    },
    {
      "cell_type": "markdown",
      "metadata": {
        "id": "RgcSPnoafO2o"
      },
      "source": [
        "**DESC 624 - Logistic Regression and Random Forest**\n",
        "\n",
        "HW #2"
      ]
    },
    {
      "cell_type": "markdown",
      "metadata": {
        "id": "p9Yv-bdDKxxt"
      },
      "source": [
        "This notebook will contain both R and nearly equivalent Python code.  Pick the code you prefer to work with and make adjustments to that code as you move through the notebook.\n",
        "\n",
        "1. Remember to execute code as you go along by hitting the play button.\n",
        "2. Do not run things out of order.  You need to run things in sequence\n",
        "3. If you pick Python, do **NOT** execute R blocks, if you pick R, do **NOT**  execute the Python blocks\n",
        "4. Exception to 3., run everything in Section 1 for both R and Python (this way you have the environments properly set up for both)\n",
        "5. Please make a copy of this notebook to **YOUR** Google Drive.\n",
        "  File -> Save a Copy in Drive\n",
        "6. You will submit the actual notebook, so I can run it and you will submit a PDF version (File -> Print) of the complete notebook in which you have executed each coding block.\n",
        "7. Please name your notebook and PDF version in the following way:\n",
        "\n",
        "  HW2_lastname_firstname.ipynb for the notebook\n",
        "\n",
        "  HW2_lastname_firstname.pdf for the PDF\n",
        "\n",
        "\n",
        "\n"
      ]
    },
    {
      "cell_type": "markdown",
      "metadata": {
        "id": "UdP0dRFggBfF"
      },
      "source": [
        "You must use %%R at the top of each notebook block in order for the code to be interpreted as R code.\n",
        "\n",
        "\"#\" before or after code is a comment\n",
        "\n",
        "If you do not specify %%R at the top of the notebook block, the notebook will interpret the code as Python code.  \n",
        "\n",
        "You are welcome to use whatever your prefer or both Python and R to do the work.  If you pick one or the other, before you finalize and submit your workbook, please delete the blocks of code you did not use (i.e., If you pick Python, delete all of the R code blocks)\n",
        "\n",
        "You MUST use\n",
        "\n",
        "\"#!pip install rpy2\"\n",
        "\n",
        "\"%load_ext rpy2.ipython\"\n",
        "\n",
        "Before any R code is executed. Notice how this block of code does NOT contain a %%R at the top."
      ]
    },
    {
      "cell_type": "code",
      "metadata": {
        "id": "BNOQq6DSEX3N"
      },
      "source": [
        "#!pip3 install rpy2\n",
        "%load_ext rpy2.ipython"
      ],
      "execution_count": null,
      "outputs": []
    },
    {
      "cell_type": "code",
      "metadata": {
        "id": "7cNC4iuudIj_"
      },
      "source": [
        "!apt-get install default-jre\n",
        "!java -version"
      ],
      "execution_count": null,
      "outputs": []
    },
    {
      "cell_type": "markdown",
      "metadata": {
        "id": "iJvKgu44LLn2"
      },
      "source": [
        "#**I. Python Setup Section**"
      ]
    },
    {
      "cell_type": "code",
      "metadata": {
        "id": "kygGrrqgyfrZ"
      },
      "source": [
        "##Python Packages\n",
        "import pandas as pd\n",
        "from sklearn import tree\n",
        "import pydotplus\n",
        "from sklearn.tree import DecisionTreeClassifier\n",
        "import matplotlib.pyplot as plt\n",
        "import matplotlib.image as pltimg\n",
        "import seaborn as sn\n",
        "import numpy as np\n",
        "from scipy import stats"
      ],
      "execution_count": null,
      "outputs": []
    },
    {
      "cell_type": "code",
      "metadata": {
        "id": "LYcHvAlX0Cru"
      },
      "source": [
        "#Install python datatable which is the same as data.table() in R\n",
        "!pip install datatable\n",
        "#import datatable as dt\n",
        "#!pip install python-datatable\n",
        "import datatable as dt\n",
        "\n",
        "from datatable import (dt, f, by, ifelse, update, sort,\n",
        "                       count, min, max, mean, sum, rowsum)"
      ],
      "execution_count": null,
      "outputs": []
    },
    {
      "cell_type": "code",
      "metadata": {
        "id": "crFvhSnv1EdB",
        "outputId": "df55c957-994d-493e-caf4-a50a10fa1326",
        "colab": {
          "base_uri": "https://localhost:8080/"
        }
      },
      "source": [
        "#Python h2o\n",
        "\n",
        "#h2o is the Machine Learning package we will be using. It has both an R implementation and a Python implemenation.\n",
        "#The h2o.init() is commented out below because we are not going to use it for this HW.  You can only have on instance (either Python or R)\n",
        "#of h2o running in any one session.\n",
        "\n",
        "! pip install h2o\n",
        "\n",
        "import h2o\n",
        "\n",
        "#h2o.init()\n",
        "#h2o.shutdown()"
      ],
      "execution_count": null,
      "outputs": [
        {
          "output_type": "stream",
          "name": "stdout",
          "text": [
            "Looking in indexes: https://pypi.org/simple, https://us-python.pkg.dev/colab-wheels/public/simple/\n",
            "Collecting h2o\n",
            "  Downloading h2o-3.40.0.4.tar.gz (177.6 MB)\n",
            "\u001b[2K     \u001b[90m━━━━━━━━━━━━━━━━━━━━━━━━━━━━━━━━━━━━━━━\u001b[0m \u001b[32m177.6/177.6 MB\u001b[0m \u001b[31m7.5 MB/s\u001b[0m eta \u001b[36m0:00:00\u001b[0m\n",
            "\u001b[?25h  Preparing metadata (setup.py) ... \u001b[?25l\u001b[?25hdone\n",
            "Requirement already satisfied: requests in /usr/local/lib/python3.10/dist-packages (from h2o) (2.27.1)\n",
            "Requirement already satisfied: tabulate in /usr/local/lib/python3.10/dist-packages (from h2o) (0.8.10)\n",
            "Requirement already satisfied: future in /usr/local/lib/python3.10/dist-packages (from h2o) (0.18.3)\n",
            "Requirement already satisfied: charset-normalizer~=2.0.0 in /usr/local/lib/python3.10/dist-packages (from requests->h2o) (2.0.12)\n",
            "Requirement already satisfied: idna<4,>=2.5 in /usr/local/lib/python3.10/dist-packages (from requests->h2o) (3.4)\n",
            "Requirement already satisfied: certifi>=2017.4.17 in /usr/local/lib/python3.10/dist-packages (from requests->h2o) (2022.12.7)\n",
            "Requirement already satisfied: urllib3<1.27,>=1.21.1 in /usr/local/lib/python3.10/dist-packages (from requests->h2o) (1.26.15)\n",
            "Building wheels for collected packages: h2o\n",
            "  Building wheel for h2o (setup.py) ... \u001b[?25l\u001b[?25hdone\n",
            "  Created wheel for h2o: filename=h2o-3.40.0.4-py2.py3-none-any.whl size=177697898 sha256=679fb6805e1f42ab672e351d643c788d02b67dd28ac7a9b729a008406ec64aab\n",
            "  Stored in directory: /root/.cache/pip/wheels/43/f2/b0/5bb4d702a0467e82d77c45088db3eef25114c26b0eec8e7f6a\n",
            "Successfully built h2o\n",
            "Installing collected packages: h2o\n",
            "Successfully installed h2o-3.40.0.4\n"
          ]
        }
      ]
    },
    {
      "cell_type": "markdown",
      "metadata": {
        "id": "c7OL8ssaMG-N"
      },
      "source": [
        "#**II. Python Data Loading**"
      ]
    },
    {
      "cell_type": "code",
      "metadata": {
        "id": "UiS2yuvi0Awz"
      },
      "source": [
        "#Data Load in Python\n",
        "hotel_p = dt.fread(\"https://raw.githubusercontent.com/jjghockey/DESC624/refs/heads/main/hotel_booking.csv\")\n",
        "print(hotel_p.head())\n"
      ],
      "execution_count": null,
      "outputs": []
    },
    {
      "cell_type": "markdown",
      "metadata": {
        "id": "8FWhABonMiUI"
      },
      "source": [
        "#**III. Python Data Exploration**"
      ]
    },
    {
      "cell_type": "code",
      "metadata": {
        "id": "Tt234X7qteOg"
      },
      "source": [
        "#bank_pd=bank_p.to_pandas()  #Use this to convert datatable into Pandas\n",
        "#bank_p=dt.Frame(bank_pd) #Use this to convert Pandas into datatable"
      ],
      "execution_count": null,
      "outputs": []
    },
    {
      "cell_type": "markdown",
      "metadata": {
        "id": "vdPGN6GoM_yE"
      },
      "source": [
        "#**IV. Python Data Processing**"
      ]
    },
    {
      "cell_type": "code",
      "metadata": {
        "id": "dlsJzXRLC-hF"
      },
      "source": [
        "#IV. Data Processing --------------------------------------------\n",
        "#A. Adjust values based on the review of the data\n"
      ],
      "execution_count": null,
      "outputs": []
    },
    {
      "cell_type": "code",
      "metadata": {
        "id": "ZRZwmVexJEIg"
      },
      "source": [
        "#B. Filter the data\n"
      ],
      "execution_count": null,
      "outputs": []
    },
    {
      "cell_type": "code",
      "metadata": {
        "id": "rjBeOMhAJrrn"
      },
      "source": [
        "#C. Build additional features\n",
        "\n"
      ],
      "execution_count": null,
      "outputs": []
    },
    {
      "cell_type": "markdown",
      "metadata": {
        "id": "qoZXukkGf1GA"
      },
      "source": [
        "##**You need to create and run different models. One for Random Forest and one for Logisitic Regression**"
      ]
    },
    {
      "cell_type": "markdown",
      "metadata": {
        "id": "s4jdndzNmg8t"
      },
      "source": [
        "**QUESTION 1**\n",
        "\n",
        "1. Explain why you need to split your data into training and test sets?\n",
        "\n",
        "2. Are you going to use a percentage based split? If not, why?\n",
        "\n",
        "3. What percentage split are you going to use?  Why?\n",
        "\n",
        "4. How does that percentage affect your model?  \n",
        "\n",
        "5. If you select a higher or lower percentage for your training / test split what affect will it have on your validation of the model.\n",
        "\n",
        "6. Why do you need to validate your model?\n",
        "\n",
        "7. What do you think the best spliting strategy would be for this data? Why is that?\n"
      ]
    },
    {
      "cell_type": "markdown",
      "metadata": {
        "id": "E7mYBEoQpg-K"
      },
      "source": [
        "1. What are tuning parameters?\n",
        "\n",
        "2. How do they impact the prediction outcomes of the model?\n",
        "\n",
        "3. What is grid search and why is it advantageous to use?\n",
        "\n",
        "4. If you choose to, please adjust the below parameters to your choosing.  Next to each parameter you can add additional options for the grid to search on.  Please review the documentation on h2o before doing so.\n",
        "\n",
        "For example, ntrees=c(10,50,100,1000),\n"
      ]
    },
    {
      "cell_type": "markdown",
      "metadata": {
        "id": "OD9EzGuakOmG"
      },
      "source": [
        "1. Explain what features you are using and why?\n",
        "\n",
        "2. Explain the new features you developed.  Why do you think they are important?"
      ]
    },
    {
      "cell_type": "markdown",
      "metadata": {
        "id": "9guzsGbPPWia"
      },
      "source": [
        "#**V. Python Data Analysis**"
      ]
    },
    {
      "cell_type": "markdown",
      "metadata": {
        "id": "Y8WTtv6JXlW7"
      },
      "source": [
        "##You need to create and run different models. One for Random Forest and one for Logisitic Regression.##\n",
        "\n",
        "**If your model from HW #1 was not very strong, you need to consider new features and/or additional features for these models.  I will be comparing your results and I am going to want to see improvement in the AUC.  However, if your HW #1 model already had a strong AUC (>0.70), then you no dont need to necessarily consider additional features.**"
      ]
    },
    {
      "cell_type": "code",
      "metadata": {
        "id": "1fEEHpGkf2Q8"
      },
      "source": [
        "import h2o\n",
        "\n",
        "h2o.init()\n",
        "#h2o.shutdown()"
      ],
      "execution_count": null,
      "outputs": []
    },
    {
      "cell_type": "code",
      "metadata": {
        "id": "l6n_I_TgPaoj"
      },
      "source": [
        "#A. Prepare data for h2o\n",
        "\n",
        "#Split the Data\n",
        "#Name the training data object hotel_trn and the testing data object hotel_tst"
      ],
      "execution_count": null,
      "outputs": []
    },
    {
      "cell_type": "markdown",
      "metadata": {
        "id": "o5ezkqXZp50M"
      },
      "source": [
        "**QUESTION #2**\n",
        "\n",
        "1. What are tuning parameters?\n",
        "\n",
        "2. How do they impact the prediction outcomes of the model?\n",
        "\n",
        "3. What is grid search and why is it advantageous to use?\n",
        "\n",
        "4. If you choose to, please adjust the below parameters to your choosing.  Next to each parameter you can add additional options for the grid to search on.  Please review the documentation on h2o before doing so.\n",
        "\n",
        "For example, ntrees=c(10,50,100,1000),"
      ]
    },
    {
      "cell_type": "code",
      "metadata": {
        "id": "f1tHZn2QQfcJ"
      },
      "source": [
        "trn=hotel_trn.loc[:,[]]  #Put your predictors here, separated by commas. Each predictor needs to be enclosed in single quotes\n",
        "tst=hotel_tst.loc[:,[]]  #Put your predictors here, separated by commas. Each predictor needs to be enclosed in single quotes"
      ],
      "execution_count": null,
      "outputs": []
    },
    {
      "cell_type": "code",
      "metadata": {
        "id": "XsJRB81cos4f"
      },
      "source": [
        "#Load data into h2o\n",
        "trn_h = h2o.H2OFrame(trn)\n",
        "tst_h = h2o.H2OFrame(tst)\n",
        "\n",
        "x = trn_h.columns\n",
        "y = \"y\"\n",
        "x.remove(y)"
      ],
      "execution_count": null,
      "outputs": []
    },
    {
      "cell_type": "code",
      "metadata": {
        "id": "V0JWqB2Ioz0P"
      },
      "source": [
        "#Response variable MUST be a factor variable\n",
        "trn_h[y] = trn_h[y].asfactor()\n",
        "tst_h[y] = tst_h[y].asfactor()"
      ],
      "execution_count": null,
      "outputs": []
    },
    {
      "cell_type": "code",
      "metadata": {
        "id": "jkPYGXpDo1qM"
      },
      "source": [
        "#B. Tuning Parameters\n",
        "# Random Forest hyperparameters\n",
        "hyper_params_rf = {'ntrees': [100],\n",
        "                  'max_depth': [20],\n",
        "                  'min_rows': [5],\n",
        "                  'sample_rate': [.95,1],\n",
        "                  'col_sample_rate_per_tree': [.9,1],\n",
        "                  'nbins': [2,5],\n",
        "                  'mtries': [-1,-2,1,2,5,10],\n",
        "                  'nbins_cats': [64, 128, 256, 512]\n",
        "                   }\n",
        "\n",
        "hyper_params_glm = {\n",
        "    'alpha': [0]\n",
        "}\n",
        "\n",
        "#Do not adjust this\n",
        "search_criteria = {'strategy': 'RandomDiscrete', 'max_models': 5, 'seed': 1}"
      ],
      "execution_count": null,
      "outputs": []
    },
    {
      "cell_type": "markdown",
      "metadata": {
        "id": "ys4uyikjyC6Y"
      },
      "source": [
        "**QUESTION #3**\n",
        "\n",
        "1. Explain what features you are using and why?\n",
        "\n",
        "2. Explain the new features you developed.  Why do you think they are important?"
      ]
    },
    {
      "cell_type": "markdown",
      "metadata": {
        "id": "TQyEJOSVqzlp"
      },
      "source": [
        "Prepare Random Forest - You must use a combination of features you create and existing columns in the data"
      ]
    },
    {
      "cell_type": "code",
      "metadata": {
        "id": "O5M_LGZMo9lP"
      },
      "source": [
        "#C. Train Random Forest\n",
        "from h2o.estimators import H2ORandomForestEstimator\n",
        "from h2o.grid.grid_search import H2OGridSearch\n",
        "\n",
        "rf_grid1 = H2OGridSearch(model=H2ORandomForestEstimator,\n",
        "                          grid_id='rf_grid1',\n",
        "                          hyper_params=hyper_params_rf,\n",
        "                          search_criteria=search_criteria\n",
        "                         )\n",
        "rf_grid1.train(x=x, y=y,\n",
        "                training_frame=trn_h,\n",
        "                stopping_metric = \"misclassification\", stopping_tolerance = 1e-3,\n",
        "\t\t\t\t\t\t\t  stopping_rounds = 3,\n",
        "\t\t\t\t\t\t\t  nfolds = 5, fold_assignment = \"Modulo\",\n",
        "\t\t\t\t\t\t\t  distribution = \"AUTO\",\n",
        "                balance_classes = True,\n",
        "\t\t\t\t\t\t\t  keep_cross_validation_predictions = True,\n",
        "                seed=1\n",
        "               )\n",
        "# Get the grid results, sorted by validation error\n",
        "rf_gridperf1 = rf_grid1.get_grid(sort_by='err', decreasing=True)"
      ],
      "execution_count": null,
      "outputs": []
    },
    {
      "cell_type": "code",
      "source": [
        "#1. Prediction"
      ],
      "metadata": {
        "id": "rPnqPzGG_ZwG"
      },
      "execution_count": null,
      "outputs": []
    },
    {
      "cell_type": "code",
      "metadata": {
        "id": "e_ARSR_cNm7d"
      },
      "source": [
        "#2. AUC"
      ],
      "execution_count": null,
      "outputs": []
    },
    {
      "cell_type": "code",
      "metadata": {
        "id": "FpdlrBt4ODEN"
      },
      "source": [
        "#3. Confusion Matrix"
      ],
      "execution_count": null,
      "outputs": []
    },
    {
      "cell_type": "code",
      "metadata": {
        "id": "JcHmniGwzTE6"
      },
      "source": [
        "#4. ROC"
      ],
      "execution_count": null,
      "outputs": []
    },
    {
      "cell_type": "code",
      "metadata": {
        "id": "MKpgrVaazTE8"
      },
      "source": [
        "#5. Variable Importance"
      ],
      "execution_count": null,
      "outputs": []
    },
    {
      "cell_type": "markdown",
      "metadata": {
        "id": "iPFWWHQcq2po"
      },
      "source": [
        "Prepare Logistic Regression - You must use a combination of features you create and existing columns in the data"
      ]
    },
    {
      "cell_type": "code",
      "metadata": {
        "id": "Tu7d2mt-qfya"
      },
      "source": [
        "#D. Train Logistic Regression\n",
        "from h2o.estimators.glm import H2OGeneralizedLinearEstimator\n",
        "from h2o.grid.grid_search import H2OGridSearch\n",
        "\n",
        "glm_grid1 = H2OGridSearch(model=H2OGeneralizedLinearEstimator,\n",
        "                          grid_id='glm_grid1',\n",
        "                          hyper_params=hyper_params_glm,\n",
        "                          search_criteria=search_criteria\n",
        "                         )\n",
        "glm_grid1.train(x=x, y=y,\n",
        "                training_frame=trn_h,\n",
        "                stopping_metric = \"misclassification\", stopping_tolerance = 1e-3,\n",
        "\t\t\t\t\t\t\t  stopping_rounds = 3,\n",
        "\t\t\t\t\t\t\t  nfolds = 5, fold_assignment = \"Modulo\",\n",
        "                balance_classes = True,\n",
        "\t\t\t\t\t\t\t  keep_cross_validation_predictions = True,\n",
        "                standardize = True,\n",
        "                family = \"binomial\",\n",
        "                lambda_search=False,\n",
        "                seed=1\n",
        "               )\n",
        "# Get the grid results, sorted by validation error\n",
        "#G. Evaluate\n",
        "glm_gridperf1 = glm_grid1.get_grid(sort_by='err', decreasing=True)\n",
        "\n",
        "# Grab the top GLM model, chosen by validation error\n",
        "best_glm1 = glm_gridperf1.models[0]"
      ],
      "execution_count": null,
      "outputs": []
    },
    {
      "cell_type": "code",
      "source": [
        "#1. Prediction"
      ],
      "metadata": {
        "id": "nbyQqQj7_5Hb"
      },
      "execution_count": null,
      "outputs": []
    },
    {
      "cell_type": "code",
      "metadata": {
        "id": "9-oXOFQ1qfyb"
      },
      "source": [
        "#2. AUC"
      ],
      "execution_count": null,
      "outputs": []
    },
    {
      "cell_type": "code",
      "metadata": {
        "id": "moU_1I5tqfyb"
      },
      "source": [
        "#3. Confusion Matrix"
      ],
      "execution_count": null,
      "outputs": []
    },
    {
      "cell_type": "code",
      "metadata": {
        "id": "0sv2wP4Uqfyb"
      },
      "source": [
        "#4. ROC"
      ],
      "execution_count": null,
      "outputs": []
    },
    {
      "cell_type": "code",
      "metadata": {
        "id": "unqACVZjqfyb"
      },
      "source": [
        "#5. Variable Importance"
      ],
      "execution_count": null,
      "outputs": []
    },
    {
      "cell_type": "markdown",
      "metadata": {
        "id": "xikOEkRun9o-"
      },
      "source": [
        "**QUESTION #4**\n",
        "\n",
        "1. Which features are NOT important in the model? Why do you think that is?\n",
        "\n",
        "2. Were any of the features you developed important in either model?\n",
        "\n",
        "3. Why do you think they were (or were not)?\n",
        "\n",
        "4. Did the importance change between the modeling algorithms?\n",
        "\n",
        "5. Do you think your model has a reliable prediction? Why or Why Not?\n",
        "\n",
        "6. Compare and contrast the results of each model.  Which model would you choose and why?"
      ]
    }
  ]
}