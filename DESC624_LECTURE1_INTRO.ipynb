{
  "nbformat": 4,
  "nbformat_minor": 0,
  "metadata": {
    "colab": {
      "provenance": [],
      "toc_visible": true,
      "collapsed_sections": [
        "iJvKgu44LLn2",
        "c7OL8ssaMG-N",
        "8FWhABonMiUI",
        "BY7fk4zTLAKp",
        "M-YavnWULjv7",
        "iCwVI9mDL0O6"
      ],
      "include_colab_link": true
    },
    "kernelspec": {
      "display_name": "Python 3",
      "name": "python3"
    },
    "language_info": {
      "name": "python"
    }
  },
  "cells": [
    {
      "cell_type": "markdown",
      "metadata": {
        "id": "view-in-github",
        "colab_type": "text"
      },
      "source": [
        "<a href=\"https://colab.research.google.com/github/benmcnertney/DESC624/blob/main/DESC624_LECTURE1_INTRO.ipynb\" target=\"_parent\"><img src=\"https://colab.research.google.com/assets/colab-badge.svg\" alt=\"Open In Colab\"/></a>"
      ]
    },
    {
      "cell_type": "markdown",
      "metadata": {
        "id": "RgcSPnoafO2o"
      },
      "source": [
        "**DESC 624 - Intro**"
      ]
    },
    {
      "cell_type": "markdown",
      "metadata": {
        "id": "p9Yv-bdDKxxt"
      },
      "source": [
        "This notebook will contain both R and Python code.  "
      ]
    },
    {
      "cell_type": "markdown",
      "metadata": {
        "id": "UdP0dRFggBfF"
      },
      "source": [
        "You must use %%R at the top of each notebook block in order for the code to be interpreted as R code.\n",
        "\n",
        "\"#\" before or after code is a comment\n",
        "\n",
        "If you do not specify %%R at the top of the notebook block, the notebook will interpret the code as Python code.  \n",
        "\n",
        "You are welcome to use either python and R to do the work.  I will try and apply both R and Python examples as we go through this together.\n",
        "\n",
        "You MUST use\n",
        "\"#!pip install rpy2\"\n",
        "\"%load_ext rpy2.ipython\"\n",
        "\n",
        "Before any R code is executed.\n",
        "\n",
        "**PLEASE DO NOT EDIT THE NOTEBOOK.  PLEASE MAKE A COPY TO YOUR DRIVE AND MAKE EDITS TO YOUR COPY.**"
      ]
    },
    {
      "cell_type": "code",
      "source": [
        "!pip install pip --upgrade"
      ],
      "metadata": {
        "id": "Z6pm8VH8zt3g"
      },
      "execution_count": null,
      "outputs": []
    },
    {
      "cell_type": "code",
      "metadata": {
        "id": "BNOQq6DSEX3N"
      },
      "source": [
        "!pip install rpy2==3.5.1"
      ],
      "execution_count": null,
      "outputs": []
    },
    {
      "cell_type": "code",
      "source": [
        "%load_ext rpy2.ipython"
      ],
      "metadata": {
        "id": "pjJ5CYmCQQIg"
      },
      "execution_count": null,
      "outputs": []
    },
    {
      "cell_type": "code",
      "source": [
        "!python --version"
      ],
      "metadata": {
        "colab": {
          "base_uri": "https://localhost:8080/"
        },
        "id": "UBn8oTKWuy-n",
        "outputId": "fe2c6f60-80f7-4cbf-8261-00e06d643137"
      },
      "execution_count": null,
      "outputs": [
        {
          "output_type": "stream",
          "name": "stdout",
          "text": [
            "Python 3.10.12\n"
          ]
        }
      ]
    },
    {
      "cell_type": "markdown",
      "metadata": {
        "id": "iJvKgu44LLn2"
      },
      "source": [
        "#**I. Python Setup Section**"
      ]
    },
    {
      "cell_type": "code",
      "metadata": {
        "id": "kygGrrqgyfrZ"
      },
      "source": [
        "##Python Packages\n",
        "import pandas as pd\n",
        "from sklearn import tree\n",
        "import pydotplus\n",
        "from sklearn.tree import DecisionTreeClassifier\n",
        "import matplotlib.pyplot as plt\n",
        "import matplotlib.image as pltimg\n",
        "import seaborn as sn\n",
        "import numpy as np"
      ],
      "execution_count": null,
      "outputs": []
    },
    {
      "cell_type": "code",
      "source": [
        "!pip install datatable #==1.0.0\n",
        "#0.3.1, 0.3.2, 0.4.0, 0.5.0, 0.6.0, 0.7.0, 0.8.0, 0.9.0, 0.10.1, 0.11.0, 0.11.1, 1.0.0"
      ],
      "metadata": {
        "colab": {
          "base_uri": "https://localhost:8080/",
          "height": 223
        },
        "id": "oqw9ehonz2mf",
        "outputId": "fb8ce34a-8cad-44fd-e950-c00a6bde26cb"
      },
      "execution_count": null,
      "outputs": [
        {
          "output_type": "stream",
          "name": "stdout",
          "text": [
            "Collecting datatable\n",
            "  Downloading datatable-1.1.0-cp311-cp311-manylinux_2_35_x86_64.whl.metadata (1.8 kB)\n",
            "Downloading datatable-1.1.0-cp311-cp311-manylinux_2_35_x86_64.whl (82.0 MB)\n",
            "\u001b[2K   \u001b[90m━━━━━━━━━━━━━━━━━━━━━━━━━━━━━━━━━━━━━━━━\u001b[0m \u001b[32m82.0/82.0 MB\u001b[0m \u001b[31m9.3 MB/s\u001b[0m eta \u001b[36m0:00:00\u001b[0m\n",
            "\u001b[?25hInstalling collected packages: datatable\n",
            "Successfully installed datatable-1.1.0\n"
          ]
        },
        {
          "output_type": "display_data",
          "data": {
            "application/vnd.colab-display-data+json": {
              "pip_warning": {
                "packages": [
                  "datatable"
                ]
              },
              "id": "9c74426eeffd4843a82a5701d1a336a6"
            }
          },
          "metadata": {}
        }
      ]
    },
    {
      "cell_type": "code",
      "source": [
        "#If the ABOVE does not work uncomment out these two lines.\n",
        "#pip install \"git+https://github.com/h2oai/datatable.git\"\n",
        "#!pip install python-datatable\n",
        "\n",
        "\n",
        "import datatable as dt\n",
        "\n",
        "from datatable import (dt, f, by, ifelse, update, sort,\n",
        "                       count, min, max, mean, sum, rowsum)"
      ],
      "metadata": {
        "colab": {
          "base_uri": "https://localhost:8080/",
          "height": 17
        },
        "id": "5jMZX6U3Dcko",
        "outputId": "3b230993-68a5-4952-89f0-ad3f6b050dc8"
      },
      "execution_count": null,
      "outputs": [
        {
          "output_type": "display_data",
          "data": {
            "text/plain": [
              "<IPython.core.display.HTML object>"
            ],
            "text/html": [
              "<style type='text/css'>\n",
              ".datatable table.frame { margin-bottom: 0; }\n",
              ".datatable table.frame thead { border-bottom: none; }\n",
              ".datatable table.frame tr.coltypes td {  color: #FFFFFF;  line-height: 6px;  padding: 0 0.5em;}\n",
              ".datatable .bool    { background: #DDDD99; }\n",
              ".datatable .object  { background: #565656; }\n",
              ".datatable .int     { background: #5D9E5D; }\n",
              ".datatable .float   { background: #4040CC; }\n",
              ".datatable .str     { background: #CC4040; }\n",
              ".datatable .time    { background: #40CC40; }\n",
              ".datatable .row_index {  background: var(--jp-border-color3);  border-right: 1px solid var(--jp-border-color0);  color: var(--jp-ui-font-color3);  font-size: 9px;}\n",
              ".datatable .frame tbody td { text-align: left; }\n",
              ".datatable .frame tr.coltypes .row_index {  background: var(--jp-border-color0);}\n",
              ".datatable th:nth-child(2) { padding-left: 12px; }\n",
              ".datatable .hellipsis {  color: var(--jp-cell-editor-border-color);}\n",
              ".datatable .vellipsis {  background: var(--jp-layout-color0);  color: var(--jp-cell-editor-border-color);}\n",
              ".datatable .na {  color: var(--jp-cell-editor-border-color);  font-size: 80%;}\n",
              ".datatable .sp {  opacity: 0.25;}\n",
              ".datatable .footer { font-size: 9px; }\n",
              ".datatable .frame_dimensions {  background: var(--jp-border-color3);  border-top: 1px solid var(--jp-border-color0);  color: var(--jp-ui-font-color3);  display: inline-block;  opacity: 0.6;  padding: 1px 10px 1px 5px;}\n",
              "</style>\n"
            ]
          },
          "metadata": {}
        }
      ]
    },
    {
      "cell_type": "code",
      "source": [
        "#from google.colab import drive\n",
        "#drive.mount('/content/drive/')"
      ],
      "metadata": {
        "id": "b8SZEpLAdYbu"
      },
      "execution_count": null,
      "outputs": []
    },
    {
      "cell_type": "markdown",
      "metadata": {
        "id": "c7OL8ssaMG-N"
      },
      "source": [
        "#**II. Python Data Loading**"
      ]
    },
    {
      "cell_type": "code",
      "metadata": {
        "id": "UiS2yuvi0Awz"
      },
      "source": [
        "#Data Load in Python\n",
        "bank_p = dt.fread(\"https://raw.githubusercontent.com/jjghockey/DESC624/main/bank-additional-full.csv\")\n",
        "bank_p.head()"
      ],
      "execution_count": null,
      "outputs": []
    },
    {
      "cell_type": "code",
      "source": [
        "bank_p.head()"
      ],
      "metadata": {
        "id": "f88Q6Q16iyLX"
      },
      "execution_count": null,
      "outputs": []
    },
    {
      "cell_type": "markdown",
      "metadata": {
        "id": "8FWhABonMiUI"
      },
      "source": [
        "#**III. Python Data Exploration**"
      ]
    },
    {
      "cell_type": "markdown",
      "metadata": {
        "id": "ATWf9oEV8PYh"
      },
      "source": [
        "Pythons function for summary() only uses numeric values, so you will have to build categorical tables on your own."
      ]
    },
    {
      "cell_type": "code",
      "metadata": {
        "id": "1sFvlpsM_Gef"
      },
      "source": [
        "bank_p.names"
      ],
      "execution_count": null,
      "outputs": []
    },
    {
      "cell_type": "markdown",
      "metadata": {
        "id": "W5v-36OO_35Y"
      },
      "source": [
        "Categorical tables using python"
      ]
    },
    {
      "cell_type": "code",
      "metadata": {
        "id": "3dftnVrP8cTH"
      },
      "source": [
        "bank_p['count'] = 1  #Build a new variable in order to count rows in the data\n",
        "bank_p[f.y==\"yes\",'y1']=1\n",
        "bank_p[f.y==\"no\",'y1']=0\n",
        "\n",
        "bank_p[:, sum(f.count), by('y', 'y1')]  #Recode y into a 0/1 dummy variable"
      ],
      "execution_count": null,
      "outputs": []
    },
    {
      "cell_type": "code",
      "metadata": {
        "id": "K1xxQe4I42uv"
      },
      "source": [
        "bank_pd=bank_p.to_pandas()\n",
        "summary = bank_pd.describe()\n",
        "summary = summary.transpose()\n",
        "summary"
      ],
      "execution_count": null,
      "outputs": []
    },
    {
      "cell_type": "code",
      "metadata": {
        "id": "WH0DqPLNCQA_"
      },
      "source": [
        "bank_pd.head()"
      ],
      "execution_count": null,
      "outputs": []
    },
    {
      "cell_type": "code",
      "metadata": {
        "id": "K7D_FgD8_kgb"
      },
      "source": [
        "bank_p[:, sum(f.count), by('marital') ]"
      ],
      "execution_count": null,
      "outputs": []
    },
    {
      "cell_type": "code",
      "source": [
        "bank_p[:, sum(f.count), by('contact')]"
      ],
      "metadata": {
        "id": "QncHgyKPj68b"
      },
      "execution_count": null,
      "outputs": []
    },
    {
      "cell_type": "code",
      "source": [
        "bank_p[:, sum(f.count), by('job') ]"
      ],
      "metadata": {
        "id": "bem-yLdtFgzZ"
      },
      "execution_count": null,
      "outputs": []
    },
    {
      "cell_type": "code",
      "metadata": {
        "id": "GhJ4Re8kTw4T"
      },
      "source": [
        "# Creating a data table\n",
        "bank_p=dt.Frame(bank_pd)"
      ],
      "execution_count": null,
      "outputs": []
    },
    {
      "cell_type": "code",
      "metadata": {
        "id": "onhYt-ViT3CU"
      },
      "source": [
        "bank_p.head()"
      ],
      "execution_count": null,
      "outputs": []
    },
    {
      "cell_type": "code",
      "metadata": {
        "id": "l6n_I_TgPaoj"
      },
      "source": [
        "# Creating a dataframe\n",
        "bank_pd = bank_p.to_pandas()\n",
        "bank_pd.describe()"
      ],
      "execution_count": null,
      "outputs": []
    },
    {
      "cell_type": "markdown",
      "metadata": {
        "id": "vdPGN6GoM_yE"
      },
      "source": [
        "#**IV. Python Data Processing**"
      ]
    },
    {
      "cell_type": "markdown",
      "metadata": {
        "id": "9guzsGbPPWia"
      },
      "source": [
        "#**V. Python Data Analysis**"
      ]
    },
    {
      "cell_type": "markdown",
      "metadata": {
        "id": "BY7fk4zTLAKp"
      },
      "source": [
        "#**I. R Setup Sections**"
      ]
    },
    {
      "cell_type": "code",
      "metadata": {
        "id": "6GEkJXmWkncm",
        "colab": {
          "base_uri": "https://localhost:8080/"
        },
        "outputId": "9d3e410f-cd27-4f4c-9496-9d203d5b5c6e"
      },
      "source": [
        "%%R\n",
        "#I. Setup ---------------------------------------------------\n",
        "\n",
        "#Load Packages\n",
        "\n",
        "a <- installed.packages()\n",
        "pkgs <- rownames(a)\n",
        "\n",
        "\n",
        "#Packages used in today's examples:\n",
        "if(\"tidyverse\" %in% pkgs == FALSE){\n",
        "  install.packages(\"tidyverse\")\n",
        "}\n",
        "if(\"stringr\" %in% pkgs == FALSE){\n",
        "  install.packages(\"stringr\")\n",
        "}\n",
        "if(\"ggplot2\" %in% pkgs == FALSE){\n",
        "  install.packages(\"ggplot2\")\n",
        "}\n",
        "if(\"data.table\" %in% pkgs == FALSE){\n",
        "  install.packages(\"data.table\")\n",
        "}\n",
        "\n",
        "\n",
        "require(tidyverse)\n",
        "require(stringr)\n",
        "require(ggplot2)\n",
        "require(data.table)\n",
        "\n",
        "\n"
      ],
      "execution_count": null,
      "outputs": [
        {
          "output_type": "stream",
          "name": "stderr",
          "text": [
            "WARNING:rpy2.rinterface_lib.callbacks:R[write to console]: Loading required package: tidyverse\n",
            "\n"
          ]
        },
        {
          "output_type": "stream",
          "name": "stdout",
          "text": [
            "── Attaching core tidyverse packages ──────────────────────── tidyverse 2.0.0 ──\n",
            "✔ dplyr     1.1.4     ✔ readr     2.1.5\n",
            "✔ forcats   1.0.0     ✔ stringr   1.5.1\n",
            "✔ ggplot2   3.5.1     ✔ tibble    3.2.1\n",
            "✔ lubridate 1.9.3     ✔ tidyr     1.3.1\n",
            "✔ purrr     1.0.2     \n",
            "── Conflicts ────────────────────────────────────────── tidyverse_conflicts() ──\n",
            "✖ dplyr::filter() masks stats::filter()\n",
            "✖ dplyr::lag()    masks stats::lag()\n",
            "ℹ Use the conflicted package (<http://conflicted.r-lib.org/>) to force all conflicts to become errors\n"
          ]
        },
        {
          "output_type": "stream",
          "name": "stderr",
          "text": [
            "WARNING:rpy2.rinterface_lib.callbacks:R[write to console]: Loading required package: data.table\n",
            "\n",
            "WARNING:rpy2.rinterface_lib.callbacks:R[write to console]: data.table 1.15.4 using 1 threads (see ?getDTthreads).  \n",
            "WARNING:rpy2.rinterface_lib.callbacks:R[write to console]: Latest news: r-datatable.com\n",
            "\n",
            "WARNING:rpy2.rinterface_lib.callbacks:R[write to console]: \n",
            "Attaching package: ‘data.table’\n",
            "\n",
            "\n",
            "WARNING:rpy2.rinterface_lib.callbacks:R[write to console]: The following objects are masked from ‘package:lubridate’:\n",
            "\n",
            "    hour, isoweek, mday, minute, month, quarter, second, wday, week,\n",
            "    yday, year\n",
            "\n",
            "\n",
            "WARNING:rpy2.rinterface_lib.callbacks:R[write to console]: The following objects are masked from ‘package:dplyr’:\n",
            "\n",
            "    between, first, last\n",
            "\n",
            "\n",
            "WARNING:rpy2.rinterface_lib.callbacks:R[write to console]: The following object is masked from ‘package:purrr’:\n",
            "\n",
            "    transpose\n",
            "\n",
            "\n"
          ]
        }
      ]
    },
    {
      "cell_type": "markdown",
      "metadata": {
        "id": "M-YavnWULjv7"
      },
      "source": [
        "#**II. R Data Loading**"
      ]
    },
    {
      "cell_type": "markdown",
      "metadata": {
        "id": "yrYzFDAueXsN"
      },
      "source": [
        "You can use the lines of code to read in the raw data directly from a zip file from the UCI Machine Learning Repository.\n",
        "\n",
        "I am going to help you with this for other data files we will look at together.\n",
        "\n",
        "\n",
        "fread() is a general purpose processing tool that converts ASCII character text files into an R data object."
      ]
    },
    {
      "cell_type": "code",
      "metadata": {
        "id": "UeiHz9OKIuwN",
        "colab": {
          "base_uri": "https://localhost:8080/"
        },
        "outputId": "70254f87-063b-4ed6-ab57-2aa5951933a2"
      },
      "source": [
        "%%R\n",
        "bank <- fread(\"https://raw.githubusercontent.com/jjghockey/DESC624/main/bank-additional-full.csv\", stringsAsFactors=TRUE)\n",
        "head(bank, 10)"
      ],
      "execution_count": null,
      "outputs": [
        {
          "output_type": "stream",
          "name": "stderr",
          "text": [
            "WARNING:rpy2.rinterface_lib.callbacks:R[write to console]: trying URL 'https://raw.githubusercontent.com/jjghockey/DESC624/main/bank-additional-full.csv'\n",
            "\n",
            "WARNING:rpy2.rinterface_lib.callbacks:R[write to console]: Content type 'text/plain; charset=utf-8'\n",
            "WARNING:rpy2.rinterface_lib.callbacks:R[write to console]:  length 5834924 bytes (5.6 MB)\n",
            "\n",
            "WARNING:rpy2.rinterface_lib.callbacks:R[write to console]: =\n",
            "WARNING:rpy2.rinterface_lib.callbacks:R[write to console]: =\n",
            "WARNING:rpy2.rinterface_lib.callbacks:R[write to console]: =\n",
            "WARNING:rpy2.rinterface_lib.callbacks:R[write to console]: =\n",
            "WARNING:rpy2.rinterface_lib.callbacks:R[write to console]: =\n",
            "WARNING:rpy2.rinterface_lib.callbacks:R[write to console]: =\n",
            "WARNING:rpy2.rinterface_lib.callbacks:R[write to console]: =\n",
            "WARNING:rpy2.rinterface_lib.callbacks:R[write to console]: =\n",
            "WARNING:rpy2.rinterface_lib.callbacks:R[write to console]: =\n",
            "WARNING:rpy2.rinterface_lib.callbacks:R[write to console]: =\n",
            "WARNING:rpy2.rinterface_lib.callbacks:R[write to console]: =\n",
            "WARNING:rpy2.rinterface_lib.callbacks:R[write to console]: =\n",
            "WARNING:rpy2.rinterface_lib.callbacks:R[write to console]: =\n",
            "WARNING:rpy2.rinterface_lib.callbacks:R[write to console]: =\n",
            "WARNING:rpy2.rinterface_lib.callbacks:R[write to console]: =\n",
            "WARNING:rpy2.rinterface_lib.callbacks:R[write to console]: =\n",
            "WARNING:rpy2.rinterface_lib.callbacks:R[write to console]: =\n",
            "WARNING:rpy2.rinterface_lib.callbacks:R[write to console]: =\n",
            "WARNING:rpy2.rinterface_lib.callbacks:R[write to console]: =\n",
            "WARNING:rpy2.rinterface_lib.callbacks:R[write to console]: =\n",
            "WARNING:rpy2.rinterface_lib.callbacks:R[write to console]: =\n",
            "WARNING:rpy2.rinterface_lib.callbacks:R[write to console]: =\n",
            "WARNING:rpy2.rinterface_lib.callbacks:R[write to console]: =\n",
            "WARNING:rpy2.rinterface_lib.callbacks:R[write to console]: =\n",
            "WARNING:rpy2.rinterface_lib.callbacks:R[write to console]: =\n",
            "WARNING:rpy2.rinterface_lib.callbacks:R[write to console]: =\n",
            "WARNING:rpy2.rinterface_lib.callbacks:R[write to console]: =\n",
            "WARNING:rpy2.rinterface_lib.callbacks:R[write to console]: =\n",
            "WARNING:rpy2.rinterface_lib.callbacks:R[write to console]: =\n",
            "WARNING:rpy2.rinterface_lib.callbacks:R[write to console]: =\n",
            "WARNING:rpy2.rinterface_lib.callbacks:R[write to console]: =\n",
            "WARNING:rpy2.rinterface_lib.callbacks:R[write to console]: =\n",
            "WARNING:rpy2.rinterface_lib.callbacks:R[write to console]: =\n",
            "WARNING:rpy2.rinterface_lib.callbacks:R[write to console]: =\n",
            "WARNING:rpy2.rinterface_lib.callbacks:R[write to console]: =\n",
            "WARNING:rpy2.rinterface_lib.callbacks:R[write to console]: =\n",
            "WARNING:rpy2.rinterface_lib.callbacks:R[write to console]: =\n",
            "WARNING:rpy2.rinterface_lib.callbacks:R[write to console]: =\n",
            "WARNING:rpy2.rinterface_lib.callbacks:R[write to console]: =\n",
            "WARNING:rpy2.rinterface_lib.callbacks:R[write to console]: =\n",
            "WARNING:rpy2.rinterface_lib.callbacks:R[write to console]: =\n",
            "WARNING:rpy2.rinterface_lib.callbacks:R[write to console]: =\n",
            "WARNING:rpy2.rinterface_lib.callbacks:R[write to console]: =\n",
            "WARNING:rpy2.rinterface_lib.callbacks:R[write to console]: =\n",
            "WARNING:rpy2.rinterface_lib.callbacks:R[write to console]: =\n",
            "WARNING:rpy2.rinterface_lib.callbacks:R[write to console]: =\n",
            "WARNING:rpy2.rinterface_lib.callbacks:R[write to console]: =\n",
            "WARNING:rpy2.rinterface_lib.callbacks:R[write to console]: =\n",
            "WARNING:rpy2.rinterface_lib.callbacks:R[write to console]: =\n",
            "WARNING:rpy2.rinterface_lib.callbacks:R[write to console]: =\n",
            "WARNING:rpy2.rinterface_lib.callbacks:R[write to console]: \n",
            "\n",
            "WARNING:rpy2.rinterface_lib.callbacks:R[write to console]: downloaded 5.6 MB\n",
            "\n",
            "\n"
          ]
        },
        {
          "output_type": "stream",
          "name": "stdout",
          "text": [
            "      age         job marital           education default housing   loan\n",
            "    <int>      <fctr>  <fctr>              <fctr>  <fctr>  <fctr> <fctr>\n",
            " 1:    56   housemaid married            basic.4y      no      no     no\n",
            " 2:    57    services married         high.school unknown      no     no\n",
            " 3:    37    services married         high.school      no     yes     no\n",
            " 4:    40      admin. married            basic.6y      no      no     no\n",
            " 5:    56    services married         high.school      no      no    yes\n",
            " 6:    45    services married            basic.9y unknown      no     no\n",
            " 7:    59      admin. married professional.course      no      no     no\n",
            " 8:    41 blue-collar married             unknown unknown      no     no\n",
            " 9:    24  technician  single professional.course      no     yes     no\n",
            "10:    25    services  single         high.school      no     yes     no\n",
            "      contact  month day_of_week duration campaign pdays previous    poutcome\n",
            "       <fctr> <fctr>      <fctr>    <int>    <int> <int>    <int>      <fctr>\n",
            " 1: telephone    may         mon      261        1   999        0 nonexistent\n",
            " 2: telephone    may         mon      149        1   999        0 nonexistent\n",
            " 3: telephone    may         mon      226        1   999        0 nonexistent\n",
            " 4: telephone    may         mon      151        1   999        0 nonexistent\n",
            " 5: telephone    may         mon      307        1   999        0 nonexistent\n",
            " 6: telephone    may         mon      198        1   999        0 nonexistent\n",
            " 7: telephone    may         mon      139        1   999        0 nonexistent\n",
            " 8: telephone    may         mon      217        1   999        0 nonexistent\n",
            " 9: telephone    may         mon      380        1   999        0 nonexistent\n",
            "10: telephone    may         mon       50        1   999        0 nonexistent\n",
            "    emp.var.rate cons.price.idx cons.conf.idx euribor3m nr.employed      y\n",
            "           <num>          <num>         <num>     <num>       <num> <fctr>\n",
            " 1:          1.1         93.994         -36.4     4.857        5191     no\n",
            " 2:          1.1         93.994         -36.4     4.857        5191     no\n",
            " 3:          1.1         93.994         -36.4     4.857        5191     no\n",
            " 4:          1.1         93.994         -36.4     4.857        5191     no\n",
            " 5:          1.1         93.994         -36.4     4.857        5191     no\n",
            " 6:          1.1         93.994         -36.4     4.857        5191     no\n",
            " 7:          1.1         93.994         -36.4     4.857        5191     no\n",
            " 8:          1.1         93.994         -36.4     4.857        5191     no\n",
            " 9:          1.1         93.994         -36.4     4.857        5191     no\n",
            "10:          1.1         93.994         -36.4     4.857        5191     no\n"
          ]
        }
      ]
    },
    {
      "cell_type": "markdown",
      "metadata": {
        "id": "iCwVI9mDL0O6"
      },
      "source": [
        "#**III. R Data Exploration**"
      ]
    },
    {
      "cell_type": "code",
      "metadata": {
        "id": "XTOG6MYLm-vA"
      },
      "source": [
        "%%R\n",
        "#III. Data Exploration -----------------------------------------\n",
        "#A. File Structure\n",
        "str(bank)\n",
        "#B. Basic Summary\n",
        "summary(bank)\n"
      ],
      "execution_count": null,
      "outputs": []
    },
    {
      "cell_type": "code",
      "source": [
        "%%R\n",
        "bank_p[, .N, by=list(marital) ]"
      ],
      "metadata": {
        "id": "1gUlPgPGYgnQ"
      },
      "execution_count": null,
      "outputs": []
    },
    {
      "cell_type": "code",
      "source": [
        "%%R\n",
        "bank_p[, .N, by=list(contact) ]"
      ],
      "metadata": {
        "id": "05SxrB4wYjpe"
      },
      "execution_count": null,
      "outputs": []
    },
    {
      "cell_type": "code",
      "source": [
        "%%R\n",
        "bank_p[, .N, by=list(job) ]"
      ],
      "metadata": {
        "id": "QVZUyfVXYmyx"
      },
      "execution_count": null,
      "outputs": []
    },
    {
      "cell_type": "markdown",
      "metadata": {
        "id": "RLPJ3liUMupz"
      },
      "source": [
        "#**IV. R Data Processing**"
      ]
    },
    {
      "cell_type": "markdown",
      "metadata": {
        "id": "PAUUEvaeNFR9"
      },
      "source": [
        "#**V. R Data Analysis**"
      ]
    }
  ]
}