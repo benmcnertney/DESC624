{
  "nbformat": 4,
  "nbformat_minor": 0,
  "metadata": {
    "colab": {
      "provenance": [],
      "toc_visible": true,
      "include_colab_link": true
    },
    "kernelspec": {
      "name": "python3",
      "display_name": "Python 3"
    },
    "language_info": {
      "name": "python"
    }
  },
  "cells": [
    {
      "cell_type": "markdown",
      "metadata": {
        "id": "view-in-github",
        "colab_type": "text"
      },
      "source": [
        "<a href=\"https://colab.research.google.com/github/benmcnertney/DESC624/blob/main/DESC624_HW1_EDA_and_DecisionTrees.ipynb\" target=\"_parent\"><img src=\"https://colab.research.google.com/assets/colab-badge.svg\" alt=\"Open In Colab\"/></a>"
      ]
    },
    {
      "cell_type": "markdown",
      "metadata": {
        "id": "RgcSPnoafO2o"
      },
      "source": [
        "**DESC 624 - EDA and Decision Tree Notebook**\n",
        "\n",
        "HW #1"
      ]
    },
    {
      "cell_type": "markdown",
      "metadata": {
        "id": "p9Yv-bdDKxxt"
      },
      "source": [
        "This notebook is for Python code.  \n",
        "\n",
        "1. Remember to execute code as you go along by hitting the play button.\n",
        "2. Do not run things out of order.  You need to run things in sequence\n",
        "3. If you pick Python, do **NOT** execute R blocks, if you pick R, do **NOT**  execute the Python blocks\n",
        "4. Exception to 3., run everything in Section 1 for both R and Python (this way you have the environments properly set up for both)\n",
        "5. Please make a copy of this notebook to **YOUR** Google Drive.\n",
        "  File -> Save a Copy in Drive\n",
        "6. You will submit the actual notebook, so I can run it and you will submit a PDF version (File -> Print) of the complete notebook in which you have executed each coding block.\n",
        "7. Please name your notebook and PDF version in the following way:\n",
        "\n",
        "  HW1_lastname_firstname.ipynb for the notebook\n",
        "\n",
        "  HW1_lastname_firstname.pdf for the PDF\n",
        "\n",
        "\n",
        "\n"
      ]
    },
    {
      "cell_type": "markdown",
      "metadata": {
        "id": "UdP0dRFggBfF"
      },
      "source": [
        "You must use %%R at the top of each notebook block in order for the code to be interpreted as R code.\n",
        "\n",
        "\"#\" before or after code is a comment\n",
        "\n",
        "If you do not specify %%R at the top of the notebook block, the notebook will interpret the code as Python code.  \n",
        "\n",
        "You are welcome to use whatever your prefer or both Python and R to do the work.  If you pick one or the other, before you finalize and submit your workbook, please delete the blocks of code you did not use (i.e., If you pick Python, delete all of the R code blocks)\n",
        "\n",
        "You MUST use\n",
        "\"#!pip install rpy2\"\n",
        "\"%load_ext rpy2.ipython\"\n",
        "\n",
        "Before any R code is executed. Notice how this block of code does NOT contain a %%R at the top."
      ]
    },
    {
      "cell_type": "code",
      "metadata": {
        "id": "BNOQq6DSEX3N"
      },
      "source": [
        "#!pip3 install rpy2\n",
        "%load_ext rpy2.ipython"
      ],
      "execution_count": null,
      "outputs": []
    },
    {
      "cell_type": "code",
      "metadata": {
        "id": "7cNC4iuudIj_"
      },
      "source": [
        "!apt-get install default-jre\n",
        "!java -version"
      ],
      "execution_count": null,
      "outputs": []
    },
    {
      "cell_type": "markdown",
      "metadata": {
        "id": "iJvKgu44LLn2"
      },
      "source": [
        "#**I. Python Setup Section**"
      ]
    },
    {
      "cell_type": "code",
      "metadata": {
        "id": "kygGrrqgyfrZ"
      },
      "source": [
        "##Python Packages\n",
        "import pandas as pd\n",
        "from sklearn import tree\n",
        "import pydotplus\n",
        "from sklearn.tree import DecisionTreeClassifier\n",
        "import matplotlib.pyplot as plt\n",
        "import matplotlib.image as pltimg\n",
        "import seaborn as sn\n",
        "import numpy as np\n",
        "from scipy import stats"
      ],
      "execution_count": null,
      "outputs": []
    },
    {
      "cell_type": "code",
      "metadata": {
        "id": "LYcHvAlX0Cru"
      },
      "source": [
        "#Install python datatable which is the same as data.table() in R\n",
        "#!pip install datatable\n",
        "#import datatable as dt\n",
        "\n",
        "!pip install python-datatable\n",
        "import datatable as dt\n",
        "\n",
        "from datatable import (dt, f, by, ifelse, update, sort,\n",
        "                       count, min, max, mean, sum, rowsum)"
      ],
      "execution_count": null,
      "outputs": []
    },
    {
      "cell_type": "code",
      "metadata": {
        "id": "crFvhSnv1EdB"
      },
      "source": [
        "#Python h2o\n",
        "\n",
        "#h2o is the Machine Learning package we will be using. It has both an R implementation and a Python implemenation.\n",
        "#The h2o.init() is commented out below because we are not going to use it for this HW.  You can only have on instance (either Python or R)\n",
        "#of h2o running in any one session.\n",
        "\n",
        "#! pip install h2o\n",
        "\n",
        "#import h2o\n",
        "\n",
        "#h2o.init()\n",
        "#h2o.shutdown()"
      ],
      "execution_count": null,
      "outputs": []
    },
    {
      "cell_type": "markdown",
      "metadata": {
        "id": "c7OL8ssaMG-N"
      },
      "source": [
        "#**II. Python Data Loading**"
      ]
    },
    {
      "cell_type": "code",
      "metadata": {
        "id": "UiS2yuvi0Awz"
      },
      "source": [
        "#Data Load in Python\n",
        "\n",
        "#You will notice that the data is different than what we have been working on in class.\n",
        "bank_p = dt.fread(\"https://raw.githubusercontent.com/jjghockey/DESC624/refs/heads/main/hotel_booking.csv\")\n",
        "bank_p.head()"
      ],
      "execution_count": null,
      "outputs": []
    },
    {
      "cell_type": "markdown",
      "metadata": {
        "id": "8FWhABonMiUI"
      },
      "source": [
        "#**III. Python Data Exploration**"
      ]
    },
    {
      "cell_type": "markdown",
      "metadata": {
        "id": "ATWf9oEV8PYh"
      },
      "source": [
        "Pythons function for summary() only uses numeric values, so you will have to build categorical tables on your own."
      ]
    },
    {
      "cell_type": "code",
      "metadata": {
        "id": "1sFvlpsM_Gef"
      },
      "source": [
        "#Data Exploration -----------------------------------------\n"
      ],
      "execution_count": null,
      "outputs": []
    },
    {
      "cell_type": "markdown",
      "metadata": {
        "id": "hxzEq2cye3pi"
      },
      "source": [
        "**QUESTION 1:** I want you to describe two additional features you think are useful for the model and why you think they are useful. Bring in outside research if necessary.  You need to create the features in either R or Python.  These features should be included in your Decision Tree model and your plots of the data should include these features against the response.\n",
        "\n",
        "**Feature 1**\n",
        "\n",
        "\n",
        "\n",
        "**Feature 2**\n",
        "\n",
        "\n",
        "\n"
      ]
    },
    {
      "cell_type": "markdown",
      "metadata": {
        "id": "vdPGN6GoM_yE"
      },
      "source": [
        "#**IV. Python Data Processing**"
      ]
    },
    {
      "cell_type": "code",
      "metadata": {
        "id": "dlsJzXRLC-hF"
      },
      "source": [
        "#IV. Data Processing --------------------------------------------\n",
        "#A. Adjust values based on the review of the data\n"
      ],
      "execution_count": null,
      "outputs": []
    },
    {
      "cell_type": "code",
      "metadata": {
        "id": "ZRZwmVexJEIg"
      },
      "source": [
        "#B. Filter the data\n"
      ],
      "execution_count": null,
      "outputs": []
    },
    {
      "cell_type": "code",
      "metadata": {
        "id": "rjBeOMhAJrrn"
      },
      "source": [
        "#C. Build additional features\n",
        "\n"
      ],
      "execution_count": null,
      "outputs": []
    },
    {
      "cell_type": "markdown",
      "metadata": {
        "id": "qoZXukkGf1GA"
      },
      "source": [
        "**QUESTION 2:** This is where you are going to do some EDA work. You need to plot your data with graphics.  I want to see 4 plots of the data against the response variable.  **After each plot and contingency table you need to summarize why the plot demonstrates or does not demonstrate that the feature could be useful in the model.**\n",
        "\n",
        "You also need to create 2 contingency tables against the response."
      ]
    },
    {
      "cell_type": "markdown",
      "metadata": {
        "id": "9guzsGbPPWia"
      },
      "source": [
        "#V. Python Data Analysis"
      ]
    },
    {
      "cell_type": "code",
      "metadata": {
        "id": "wtXXhXSg53S-"
      },
      "source": [
        "#Plot 1"
      ],
      "execution_count": null,
      "outputs": []
    },
    {
      "cell_type": "code",
      "metadata": {
        "id": "3lhkc4tG53TA"
      },
      "source": [
        "#Plot 2"
      ],
      "execution_count": null,
      "outputs": []
    },
    {
      "cell_type": "code",
      "metadata": {
        "id": "eBzMN6m053TC"
      },
      "source": [
        "#Plot 3"
      ],
      "execution_count": null,
      "outputs": []
    },
    {
      "cell_type": "code",
      "metadata": {
        "id": "NK3-mFWd53TD"
      },
      "source": [
        "#Plot 4"
      ],
      "execution_count": null,
      "outputs": []
    },
    {
      "cell_type": "code",
      "metadata": {
        "id": "M3ptp9uZ53TF"
      },
      "source": [
        "#Contingency Table 1"
      ],
      "execution_count": null,
      "outputs": []
    },
    {
      "cell_type": "code",
      "metadata": {
        "id": "UU9V8A-H53TH"
      },
      "source": [
        "#Contingency Table 2"
      ],
      "execution_count": null,
      "outputs": []
    },
    {
      "cell_type": "markdown",
      "metadata": {
        "id": "3D3gRehHfuYr"
      },
      "source": [
        "**QUESTION 3**\n",
        "\n",
        "1. Explain why you need to split your data into training and test sets?\n",
        "\n",
        "2. What percentage split are you going to use?  Why did you pick that split?\n",
        "\n",
        "3. If you select a higher or lower percentage for your training / test split what affect will it have on your validation of the model.\n",
        "\n",
        "4. Why do you need to validate your model?\n",
        "\n",
        "5. What validation metric are you going to use and why?\n"
      ]
    },
    {
      "cell_type": "markdown",
      "metadata": {
        "id": "w6fRJHqefuYl"
      },
      "source": [
        "Now that the EDA is done for this round, I want you to prepare TWO decision tree models."
      ]
    },
    {
      "cell_type": "code",
      "metadata": {
        "id": "f1tHZn2QQfcJ"
      },
      "source": [
        "#Split the Data"
      ],
      "execution_count": null,
      "outputs": []
    },
    {
      "cell_type": "code",
      "metadata": {
        "id": "BwdSFjv0R2Xk"
      },
      "source": [
        "#Decision Trees - No Tuning"
      ],
      "execution_count": null,
      "outputs": []
    },
    {
      "cell_type": "code",
      "metadata": {
        "id": "gq_0DqcvRH59"
      },
      "source": [
        "#Display you tree"
      ],
      "execution_count": null,
      "outputs": []
    },
    {
      "cell_type": "code",
      "metadata": {
        "id": "YCSmPkteYMVN"
      },
      "source": [
        "#Predict"
      ],
      "execution_count": null,
      "outputs": []
    },
    {
      "cell_type": "code",
      "metadata": {
        "id": "yS_qvhCfabek"
      },
      "source": [
        "#Accuracy Assessment"
      ],
      "execution_count": null,
      "outputs": []
    },
    {
      "cell_type": "code",
      "metadata": {
        "id": "8IG7JsI7cqOz"
      },
      "source": [
        "#Decision Trees - With adjusted tuning parameters"
      ],
      "execution_count": null,
      "outputs": []
    },
    {
      "cell_type": "code",
      "metadata": {
        "id": "6mnMsZO-eMAe"
      },
      "source": [
        "#Display your tree"
      ],
      "execution_count": null,
      "outputs": []
    },
    {
      "cell_type": "code",
      "metadata": {
        "id": "FA09fUrXfQ1n"
      },
      "source": [
        "#Variable importance"
      ],
      "execution_count": null,
      "outputs": []
    },
    {
      "cell_type": "code",
      "metadata": {
        "id": "ukxzefGjfRch"
      },
      "source": [
        "#Predict"
      ],
      "execution_count": null,
      "outputs": []
    },
    {
      "cell_type": "code",
      "metadata": {
        "id": "xgBEz_difmfX"
      },
      "source": [
        "#Accurracy"
      ],
      "execution_count": null,
      "outputs": []
    },
    {
      "cell_type": "markdown",
      "metadata": {
        "id": "u9k3F765398I"
      },
      "source": [
        "**QUESTION 4**\n",
        "\n",
        "1. Describe what your tree looks like after you adjusted tuning parameters?\n",
        "\n",
        "2. Generally, why are tuning parameters important in models?\n",
        "\n",
        "3. Were any features that you developed important in the model? Why do you think that is?"
      ]
    },
    {
      "cell_type": "code",
      "metadata": {
        "id": "_w-E8wuagf9X"
      },
      "source": [
        "#ROCR Plot"
      ],
      "execution_count": null,
      "outputs": []
    },
    {
      "cell_type": "markdown",
      "metadata": {
        "id": "BGNow3764FAJ"
      },
      "source": [
        "**QUESTION 5**\n",
        "\n",
        "1. Please describe AUC.  \n",
        "\n",
        "2. What is it used to measure?\n",
        "\n",
        "3. How did your model do?\n",
        "\n",
        "4. Do you think your model has a reliable prediction? Why or Why Not?"
      ]
    }
  ]
}